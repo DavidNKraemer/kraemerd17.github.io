{
 "cells": [
  {
   "cell_type": "markdown",
   "metadata": {},
   "source": [
    "# `NumPy`: Vectorized Array Processing in `Python`\n",
    "\n",
    "`NumPy`, short for Numerical `Python`, is the fundamental package required for high performance scientific computing and data analysis. It is the foundation on which nearly all of the higher-level tools we will use are built. Here are some of the things it provides:\n",
    "\n",
    "* `ndarray`, a fast and space-efficient multidimensional array providing vectorized arithmetic operations and sophisticated _broadcasting_ capabilities. We use \"array\" to refer to `ndarray`s colloquially.\n",
    "* Standard mathematical functions for fast operations on entire arrays of data without having to write loops\n",
    "* Tools for reading / writing array data to disk and working with memory-mapped files\n",
    "* Linear algebra, random number generation, and Fourier transform capabilities\n",
    "* Tools for integrating code written in `C`, `C++`, and `Fortran`\n",
    "\n",
    "The standard import line for `NumPy` is the following:"
   ]
  },
  {
   "cell_type": "code",
   "execution_count": null,
   "metadata": {
    "collapsed": false
   },
   "outputs": [],
   "source": [
    "import numpy as np"
   ]
  },
  {
   "cell_type": "markdown",
   "metadata": {},
   "source": [
    "# Arrays\n",
    "`NumPy` arrays work fundamentally differently than the standard `Python` list, though they can be initialized by wrapping around a `Python` list, as below."
   ]
  },
  {
   "cell_type": "code",
   "execution_count": null,
   "metadata": {
    "collapsed": false
   },
   "outputs": [],
   "source": [
    "my_list = [1, 2, 3, 4, 5, 6, 7, 8, 9] # equivalently, range(1,10)\n",
    "my_array = np.array(my_list)"
   ]
  },
  {
   "cell_type": "markdown",
   "metadata": {},
   "source": [
    "Arrays are indexed just like in standard `Pyhon`. For example,"
   ]
  },
  {
   "cell_type": "code",
   "execution_count": null,
   "metadata": {
    "collapsed": false
   },
   "outputs": [],
   "source": [
    "print my_array[0] # returns the first element of my_array\n",
    "print my_array[3:5] # returns the fourth and fifth elements of my_array\n",
    "print my_array[-2] # returns the second-to-last element of my_array"
   ]
  },
  {
   "cell_type": "markdown",
   "metadata": {},
   "source": [
    "However, there are some immediate differences between `Python` lists and `NumPy` arrays. For example, consider these lines of code"
   ]
  },
  {
   "cell_type": "code",
   "execution_count": null,
   "metadata": {
    "collapsed": false
   },
   "outputs": [],
   "source": [
    "print my_list + my_list"
   ]
  },
  {
   "cell_type": "code",
   "execution_count": null,
   "metadata": {
    "collapsed": false
   },
   "outputs": [],
   "source": [
    "print my_array + my_array"
   ]
  },
  {
   "cell_type": "code",
   "execution_count": null,
   "metadata": {
    "collapsed": false
   },
   "outputs": [],
   "source": [
    "print my_array * 8"
   ]
  },
  {
   "cell_type": "markdown",
   "metadata": {},
   "source": [
    "It looks as though `NumPy` arrays handle arithmetic operations differently than `Python` lists! Stay tuned to learn more about this.\n",
    "\n",
    "## Initializing `NumPy` arrays\n",
    "\n",
    "There are four main ways to initialize an array in `NumPy`. The first is by doing what was shown above, wrapping an `NumPy` array around an existing `Python` list. A second common initialization is by using `arange`, which takes a starting point, an ending point (which is excluded), and an increment value, and generates the array. For example:"
   ]
  },
  {
   "cell_type": "code",
   "execution_count": null,
   "metadata": {
    "collapsed": false
   },
   "outputs": [],
   "source": [
    "np.arange(0,10,0.4)"
   ]
  },
  {
   "cell_type": "markdown",
   "metadata": {},
   "source": [
    "This is similar to `Python`'s `range` function for lists. Another common way to initialize arrays is to use the `zeros` function, which generates an array of zeros for a given size. For example:"
   ]
  },
  {
   "cell_type": "code",
   "execution_count": null,
   "metadata": {
    "collapsed": false
   },
   "outputs": [],
   "source": [
    "np.zeros((2,4)) # note that np.zeros takes a tuple (m,n)"
   ]
  },
  {
   "cell_type": "markdown",
   "metadata": {},
   "source": [
    "Finally, sometimes you want to initialize an array to all 1s, so `NumPy` provides the `ones` function:"
   ]
  },
  {
   "cell_type": "code",
   "execution_count": null,
   "metadata": {
    "collapsed": false
   },
   "outputs": [],
   "source": [
    "np.ones((3,1)) # don't forget the tuple!"
   ]
  },
  {
   "cell_type": "markdown",
   "metadata": {},
   "source": [
    "The full list of array creation functions are given in the following table:"
   ]
  },
  {
   "cell_type": "markdown",
   "metadata": {},
   "source": [
    "## Array creation functions\n",
    "\n",
    "#####`array` \n",
    "Convert input data (list, tuple, array, or other sequence type) to an ndarray either by inferring a dtype or explicitly specifying a dtype. Copies the input data by default \n",
    "\n",
    "#####`asarray`\n",
    "Convert input to ndarray, but do not copy if the input is already an ndarray \n",
    "\n",
    "#####`arange` \n",
    "Like the built-in `range` but returns an `ndarray` instead of a list\n",
    "\n",
    "#####`ones`, `ones_like` \n",
    "Produce an array of all 1's with the given shape and `dtype.ones_like` takes another array and produces a ones array of the same shape and dtype.\n",
    "\n",
    "#####`zeros`, `zeros_like` \n",
    "Like `ones` and `ones_like` but producing arrays of 0's instead\n",
    "\n",
    "#####`empty`, `empty_like`\n",
    "Create new arrays by allocating new memory, but do not populate with any values like `ones` and `zeros`\n",
    "\n",
    "#####`eye`, `identity`\n",
    "Create a square `N`x`N` identity matrix (1's on the diagonal and 0's elsewhere)\n",
    "\n",
    "Be careful using `empty`, because it stores the `ndarray` with whatever happens to be stored on the main stack. It's almost always preferable to initialize an \"empty\" array with `zeros`, because it is guaranteed what the values will be."
   ]
  },
  {
   "cell_type": "markdown",
   "metadata": {},
   "source": [
    "## Data types\n",
    "\n",
    "If necessary, you can specifiy the data type in the `ndarray` by including a `dtype=` parameter. The acceptable `dtype`s are:\n",
    "\n",
    "#####`int8`, `uint8` (`i1`, `u1`) \n",
    "Signed and unsigned 8-bit (1 byte) integer types\n",
    "\n",
    "#####`int16`, `uint16` (`i2`, `u2`)\n",
    "Signed and unsigned 16-bit integer types\n",
    "\n",
    "#####`int32`, `uint32` (`i4`, `u4`)\n",
    "Signed and unsigned 32-bit integer types\n",
    "\n",
    "#####`int64`, `uint64` (`i8`, `u8`)\n",
    "Signed and unsigned 64-bit integer types\n",
    "\n",
    "#####`float16` (`f2`)\n",
    "Half-precision floating point\n",
    "\n",
    "#####`float32` (`f4` or `f`)\n",
    "Standard single-precision floating point. Compatibile with `C` float\n",
    "\n",
    "#####`float64` (`f8` or `d`)\n",
    "Standard double-precision floating point. Compatibile with `C` double and `Python` `float` object\n",
    "\n",
    "#####`float128` (`f16` or `g`)\n",
    "Extended floating point\n",
    "\n",
    "#####`complex64`, `complex128`, `complex256` (`c8`, `c16`, `c32`)\n",
    "Complex numbers represented by 32, 64, or 128 floats, respectively\n",
    "\n",
    "#####`bool`  (`?`)\n",
    "Boolean type storing `True` and `False` values\n",
    "\n",
    "#####`object` (`O`)\n",
    "Python object type\n",
    "\n",
    "#####`string_`  (`S`)\n",
    "Fixed-length string type (1 byte per character). For example, to create a string dtype with length 10, use `S10`\n",
    "\n",
    "#####`unicode_` (`U`)\n",
    "Fixed-length unicdoe type (number of bytes platform specific). Same specification semantics as `string_` (e.g. `U10`)."
   ]
  },
  {
   "cell_type": "code",
   "execution_count": null,
   "metadata": {
    "collapsed": false
   },
   "outputs": [],
   "source": [
    "fidentity = np.eye (5, dtype='float16')\n",
    "bidentity = np.eye (5, dtype='bool')\n",
    "sidentity = np.eye (5, dtype='string_')\n",
    "\n",
    "print fidentity, \"\\n\\n\"\n",
    "print bidentity, \"\\n\\n\"\n",
    "print sidentity"
   ]
  },
  {
   "cell_type": "markdown",
   "metadata": {},
   "source": [
    "## Accessing array elements\n",
    "\n",
    "`NumPy` arrays can be accessed in similar fashion to `Python` `list` types. For example, given an array"
   ]
  },
  {
   "cell_type": "code",
   "execution_count": null,
   "metadata": {
    "collapsed": true
   },
   "outputs": [],
   "source": [
    "a = np.array([1., 2., 3.])"
   ]
  },
  {
   "cell_type": "markdown",
   "metadata": {},
   "source": [
    "we can access elements in the natural sense:"
   ]
  },
  {
   "cell_type": "code",
   "execution_count": null,
   "metadata": {
    "collapsed": false
   },
   "outputs": [],
   "source": [
    "print a[0]\n",
    "print a[:1]\n",
    "print a[::-1]"
   ]
  },
  {
   "cell_type": "markdown",
   "metadata": {},
   "source": [
    "There are two ways to access elements for multidimensional arrays. The most natural accessing syntax originates from the following observation:"
   ]
  },
  {
   "cell_type": "code",
   "execution_count": null,
   "metadata": {
    "collapsed": false
   },
   "outputs": [],
   "source": [
    "a = np.array([[1., 2.], [3., 4.]])\n",
    "a[0]"
   ]
  },
  {
   "cell_type": "markdown",
   "metadata": {},
   "source": [
    "In a 2x2 matrix, accessing the first element returns the first row vector of the matrix. Thus, we can treat `a[0]` as its _own_ array, so we can access any of its elements by using the format:"
   ]
  },
  {
   "cell_type": "code",
   "execution_count": null,
   "metadata": {
    "collapsed": false
   },
   "outputs": [],
   "source": [
    "print a[0][0], a[0][1]"
   ]
  },
  {
   "cell_type": "markdown",
   "metadata": {},
   "source": [
    "This is called the recursive approach. There is another approach, which is unique to `NumPy` arrays, which lets you overload the arguments in the square brackets:"
   ]
  },
  {
   "cell_type": "code",
   "execution_count": null,
   "metadata": {
    "collapsed": false
   },
   "outputs": [],
   "source": [
    "print a[0,0], a[0,1]"
   ]
  },
  {
   "cell_type": "markdown",
   "metadata": {},
   "source": [
    "#### Exercise\n",
    "\n",
    "Take a large array, and use `%timeit` to determine which accessor approach is more efficient."
   ]
  },
  {
   "cell_type": "markdown",
   "metadata": {},
   "source": [
    "The moral of the story is, _use the `NumPy` specific approach!_"
   ]
  },
  {
   "cell_type": "markdown",
   "metadata": {},
   "source": [
    "## Operations between `ndarray`s and scalars\n",
    "\n",
    "Arrays are important because they enable you to express batch operations on data without writing any `for` loops. This is usually called _vectorization_. Any arithmetic operations between equal-size arrays applies the operation elementwise.\n",
    "\n",
    "#### Try it!\n",
    "\n",
    "Run the following code to get a sense of how `ndarray` operations with scalars work."
   ]
  },
  {
   "cell_type": "code",
   "execution_count": null,
   "metadata": {
    "collapsed": false
   },
   "outputs": [],
   "source": [
    "myarr = np.arange(1.,11.,1.)\n",
    "print myarr * 2.\n",
    "print myarr - 6.\n",
    "print myarr * myarr\n",
    "print np.log(myarr)"
   ]
  },
  {
   "cell_type": "markdown",
   "metadata": {},
   "source": [
    "#### Exercise\n",
    "Write a function that takes a tuple $(m,n)$ and a number $x$ generates an array of containing the value $x$."
   ]
  },
  {
   "cell_type": "markdown",
   "metadata": {},
   "source": [
    "Note that you can extract a sub-array from a main array not only by slicing sections but by choosing iterations. For example,"
   ]
  },
  {
   "cell_type": "code",
   "execution_count": null,
   "metadata": {
    "collapsed": false
   },
   "outputs": [],
   "source": [
    "print my_array\n",
    "print my_array[::2] # the sub-array starting at 0 to the end with even index"
   ]
  },
  {
   "cell_type": "markdown",
   "metadata": {},
   "source": [
    "Write a function that declares an $n\\times n$ \"checkerboard\" array of 0s and 1s."
   ]
  },
  {
   "cell_type": "code",
   "execution_count": null,
   "metadata": {
    "collapsed": false
   },
   "outputs": [],
   "source": [
    "def checkerboard(n):\n",
    "    checks = np.zeros((n,n))\n",
    "    checks[0::2, 0::2] = 1\n",
    "    checks[1::2, 1::2] = 1\n",
    "    return checks\n",
    "\n",
    "checkerboard(5)"
   ]
  },
  {
   "cell_type": "markdown",
   "metadata": {},
   "source": [
    "# Lab: Invertible Matrices\n",
    "\n",
    "`NumPy` provides powerful methods for randomly-generated arrays using the `np.random` class. The simplest random-number generation task is to produce a random number $x$ that is a member of the set $[0,1)$; that is, $0 \\leq x < 1$. In `NumPy`, this is achieved by:"
   ]
  },
  {
   "cell_type": "code",
   "execution_count": null,
   "metadata": {
    "collapsed": false
   },
   "outputs": [],
   "source": [
    "np.random.rand()"
   ]
  },
  {
   "cell_type": "markdown",
   "metadata": {},
   "source": [
    "Notice that if you run this cell many times, you get a different result. `np.random.rand()` takes $n$ arguments which determine the shape of the output. For example, to get a 5-dimensional random vector, we can write"
   ]
  },
  {
   "cell_type": "code",
   "execution_count": null,
   "metadata": {
    "collapsed": false
   },
   "outputs": [],
   "source": [
    "np.random.rand(5)"
   ]
  },
  {
   "cell_type": "markdown",
   "metadata": {},
   "source": [
    "Each additional argument specifies another \"axis\" of the array output. So if you give two arguments, it produces a matrix; three arguments produces a \"cube\" matrix; and $n$ arguments produces an $n$-tensor.\n",
    "\n",
    "The class `np.random` has many more random array capabilities which you can find [here](http://docs.scipy.org/doc/numpy/reference/routines.random.html). We will just use `np.random.rand` for this lab.\n",
    "\n",
    "#### Exercise\n",
    "\n",
    "1. Generate a three-dimensional random vector whose entries range between 4 and 8.\n",
    "2. Generalize this process into a function that produces an $n$-dimensional random vector whose components are elments of $[a,b)$. "
   ]
  },
  {
   "cell_type": "markdown",
   "metadata": {},
   "source": [
    "## Main lab\n",
    "\n",
    "Consider the following problem: given an $n\\times n$-dimension matrix $A$, what is the probability that $A$ is invertible? One reasonable interpretation of this problem is to ask how frequently a randomly-generated matrix is invertible. Your task is to\n",
    "\n",
    "* write a function that generates a random $n\\times n$ matrix whose values fall in the set $[-1,1)$,\n",
    "* write a function to determine if such a matrix is invertible,\n",
    "* write a function to approximate the probability of such an event by considering $N$ matrices and by recording the number of these that are invertible.\n",
    "\n",
    "Recall that a matrix $A$ is invertible if and only if $\\det(A)\\ne 0$. To this end, you might want to check out [linalg](http://docs.scipy.org/doc/numpy/reference/routines.linalg.html), `NumPy`'s linear algebra class.\n",
    "\n",
    "Also, because we are dealing with numerical precision, it probably is best not to expect that the determinant will ever _actually_ be 0. Instead, we suggest including an error tolerance."
   ]
  },
  {
   "cell_type": "markdown",
   "metadata": {},
   "source": [
    "It turns out that the overwhelming majority of random matrices are invertible. This simulation supports the theory, which you can read about on [this StackExchange post](http://math.stackexchange.com/questions/606295/are-most-matrices-invertible). Hopefully, you're beginning to see the power of programming in problem-solving."
   ]
  },
  {
   "cell_type": "markdown",
   "metadata": {},
   "source": [
    "# Lab: Cellular Automata\n",
    "(From Nicolas P. Rougier's [Numpy tutorial](http://www.labri.fr/perso/nrougier/teaching/numpy/numpy.html#the-way-of-numpy))\n",
    "\n",
    "We will construct a simulation of John Conway's [Game of Life](http://en.wikipedia.org/wiki/Conway's_Game_of_Life) using the skills we have learned about `NumPy`.\n",
    "\n",
    "> The Game of Life, also known simply as Life, is a cellular automaton devised by the British mathematician John Horton Conway in 1970. It is the best-known example of a cellular automaton. The \"game\" is actually a zero-player game, meaning that its evolution is determined by its initial state, needing no input from human players. One interacts with the Game of Life by creating an initial configuration and observing how it evolves.\n",
    "\n",
    "> The universe of the Game of Life is an infinite two-dimensional orthogonal grid of square cells, each of which is in one of two possible states, live or dead. Every cell interacts with its eight neighbours, which are the cells that are directly horizontally, vertically, or diagonally adjacent. At each step in time, the following transitions occur:\n",
    "\n",
    "> 1. Any live cell with fewer than two live neighbours dies, as if by needs caused by underpopulation.\n",
    "2. Any live cell with more than three live neighbours dies, as if by overcrowding.\n",
    "3. Any live cell with two or three live neighbours lives, unchanged, to the next generation.\n",
    "4. Any dead cell with exactly three live neighbours becomes a live cell.\n",
    "\n",
    "> The initial pattern constitutes the 'seed' of the system. The first generation is created by applying the above rules simultaneously to every cell in the seed – births and deaths happen simultaneously, and the discrete moment at which this happens is sometimes called a tick. (In other words, each generation is a pure function of the one before.) The rules continue to be applied repeatedly to create further generations.\n",
    "\n",
    "## Getting started\n",
    "\n",
    "The first thing to do is to create the proper `numpy` array to hold the cells. This can be done very easily:"
   ]
  },
  {
   "cell_type": "code",
   "execution_count": null,
   "metadata": {
    "collapsed": false
   },
   "outputs": [],
   "source": [
    "Z = np.array([[0,0,0,0,0,0],\n",
    "                  [0,0,0,1,0,0],\n",
    "                  [0,1,0,1,0,0],\n",
    "                  [0,0,1,1,0,0],\n",
    "                  [0,0,0,0,0,0],\n",
    "                  [0,0,0,0,0,0]],dtype='int64')"
   ]
  },
  {
   "cell_type": "markdown",
   "metadata": {},
   "source": [
    "You don't have to specify the data type, as `NumPy` will interpret an array of integers as an `int64` data type anyways. Sometimes, though, it's good practice to be specific. You can always check what datatype an array is by running"
   ]
  },
  {
   "cell_type": "code",
   "execution_count": null,
   "metadata": {
    "collapsed": false
   },
   "outputs": [],
   "source": [
    "Z.dtype"
   ]
  },
  {
   "cell_type": "markdown",
   "metadata": {},
   "source": [
    "We can also check the shape of the array to make sure it is 6x6:"
   ]
  },
  {
   "cell_type": "code",
   "execution_count": null,
   "metadata": {
    "collapsed": false
   },
   "outputs": [],
   "source": [
    "Z.shape"
   ]
  },
  {
   "cell_type": "markdown",
   "metadata": {},
   "source": [
    "You already know how to access elements of `Z`. Write a statement to obtain the the element in the 3rd row and the 4th column."
   ]
  },
  {
   "cell_type": "markdown",
   "metadata": {},
   "source": [
    "Better yet, we can access a subpart of the array using the slice notation. Obtain the subarray of `Z` containing the rows 2-5 and columns 2-5, and set it equal to an `ndarray` labelled `A`."
   ]
  },
  {
   "cell_type": "code",
   "execution_count": null,
   "metadata": {
    "collapsed": false
   },
   "outputs": [],
   "source": [
    "A = Z[1:5,1:5]"
   ]
  },
  {
   "cell_type": "markdown",
   "metadata": {},
   "source": [
    "Be mindful of array pointers! Look at what happens when you run the following code:"
   ]
  },
  {
   "cell_type": "code",
   "execution_count": null,
   "metadata": {
    "collapsed": false
   },
   "outputs": [],
   "source": [
    "A[0, 0] = 9\n",
    "print A, \"\\n\\n\"\n",
    "print Z"
   ]
  },
  {
   "cell_type": "markdown",
   "metadata": {},
   "source": [
    "We set the value of A[0,0] to 9 and we see immediate change in Z[1,1] because A[0,0] actually corresponds to Z[1,1]. This may seem trivial with such simple arrays, but things can become much more complex (we'll see that later). If in doubt, you can use \n",
    "[`ndarray.base`](http://docs.scipy.org/doc/numpy/reference/generated/numpy.ndarray.base.html) \n",
    "to check easily if an array is part of another one:"
   ]
  },
  {
   "cell_type": "code",
   "execution_count": null,
   "metadata": {
    "collapsed": false
   },
   "outputs": [],
   "source": [
    "print Z.base is None\n",
    "print A.base is Z"
   ]
  },
  {
   "cell_type": "code",
   "execution_count": null,
   "metadata": {
    "collapsed": false
   },
   "outputs": [],
   "source": [
    "A[0,0] = 0 # put A (and Z) back to normal."
   ]
  },
  {
   "cell_type": "markdown",
   "metadata": {},
   "source": [
    "## Counting neighbors\n",
    "\n",
    "We now need a function to count the neighbours. We could do it the same way as for the python version, but this would make things very slow because of the nested loops. We would prefer to act on the whole array whenever possible, this is called _vectorization_.\n",
    "\n",
    "First, you need to know that you can manipulate Z as if (and only as if) it was a regular scalar:"
   ]
  },
  {
   "cell_type": "code",
   "execution_count": null,
   "metadata": {
    "collapsed": false
   },
   "outputs": [],
   "source": [
    "1 + (2*Z + 3)"
   ]
  },
  {
   "cell_type": "markdown",
   "metadata": {},
   "source": [
    "If you look carefully at the output, you may realize that the ouptut corresponds to the formula above applied individually to each element. Said differently, we have \n",
    "\n",
    "`(1+(2*Z+3))[i,j] == (1+(2*Z[i,j]+3))` \n",
    "\n",
    "for any `i,j`.\n",
    "\n",
    "Ok, so far, so good. Now what happens if we add `Z` with one of its subpart, let's say `Z[-1:1,-1:1]` ?"
   ]
  },
  {
   "cell_type": "code",
   "execution_count": null,
   "metadata": {
    "collapsed": false
   },
   "outputs": [],
   "source": [
    "Z + Z[-1:1, -1:1]"
   ]
  },
  {
   "cell_type": "markdown",
   "metadata": {},
   "source": [
    "This raises a `Value Error` but more interestingly, numpy complains about the impossibility of _broadcasting_ the two arrays together. Broadcasting is a very powerful feature of numpy and most of the time, it saves you a lot of hassle. Let's consider for example the following code:"
   ]
  },
  {
   "cell_type": "code",
   "execution_count": null,
   "metadata": {
    "collapsed": false
   },
   "outputs": [],
   "source": [
    "Z + 1"
   ]
  },
  {
   "cell_type": "markdown",
   "metadata": {},
   "source": [
    "How can a matrix and a scalar be added together? Well, they can't. But `NumPy` is smart enough to guess that you actually want to add 1 to each of the element of `Z`. This concept of broadcasting is quite powerful and it will take you some time before masterizing it fully (if even possible).\n",
    "\n",
    "However, in the present case (counting neighbours if you remember), we won't use broadcasting (uh?). But we'll use vectorize computation using the following code:"
   ]
  },
  {
   "cell_type": "code",
   "execution_count": null,
   "metadata": {
    "collapsed": false
   },
   "outputs": [],
   "source": [
    "N = np.zeros(Z.shape, dtype=int)\n",
    "\n",
    "N[1:-1,1:-1] += (Z[ :-2, :-2] + Z[ :-2,1:-1] + Z[ :-2,2:] +\n",
    "                     Z[1:-1, :-2]                + Z[1:-1,2:] +\n",
    "                     Z[2:  , :-2] + Z[2:  ,1:-1] + Z[2:  ,2:])"
   ]
  },
  {
   "cell_type": "code",
   "execution_count": null,
   "metadata": {
    "collapsed": false
   },
   "outputs": [],
   "source": [
    "N"
   ]
  },
  {
   "cell_type": "markdown",
   "metadata": {},
   "source": [
    "To understand this code, have a look at the figure below:\n",
    "\n",
    "![Slicing ndarrays](../conway-slices.png)\n",
    "\n",
    "What we actually did with the above code is to add all the darker blue squares together. Since they have been chosen carefully, the result will be exactly what we expected. If you want to convince yourself, consider a cell in the lighter blue area of the central sub-figure and check what will the result for a given cell."
   ]
  },
  {
   "cell_type": "markdown",
   "metadata": {
    "collapsed": false
   },
   "source": [
    "## Cell Iteration\n",
    "\n",
    "In a first approach, we can write the iterate function using the [`argwhere`](http://docs.scipy.org/doc/numpy/reference/generated/numpy.argwhere.html) method that will give us the indices where a given condition is `True`."
   ]
  },
  {
   "cell_type": "code",
   "execution_count": null,
   "metadata": {
    "collapsed": false
   },
   "outputs": [],
   "source": [
    "def iterate(Z):\n",
    "    # Iterate the game of life : naive version\n",
    "    # Count neighbours\n",
    "    N = np.zeros(Z.shape, int)\n",
    "    N[1:-1,1:-1] += (Z[0:-2,0:-2] + Z[0:-2,1:-1] + Z[0:-2,2:] +\n",
    "                     Z[1:-1,0:-2]                + Z[1:-1,2:] +\n",
    "                     Z[2:  ,0:-2] + Z[2:  ,1:-1] + Z[2:  ,2:])\n",
    "    N_ = N.ravel()\n",
    "    Z_ = Z.ravel()\n",
    "\n",
    "    # Apply rules\n",
    "    R1 = np.argwhere( (Z_==1) & (N_ < 2) )\n",
    "    R2 = np.argwhere( (Z_==1) & (N_ > 3) )\n",
    "    R3 = np.argwhere( (Z_==1) & ((N_==2) | (N_==3)) )\n",
    "    R4 = np.argwhere( (Z_==0) & (N_==3) )\n",
    "\n",
    "    # Set new values\n",
    "    Z_[R1] = 0\n",
    "    Z_[R2] = 0\n",
    "    Z_[R3] = Z_[R3]\n",
    "    Z_[R4] = 1\n",
    "\n",
    "    # Make sure borders stay null\n",
    "    Z[0,:] = Z[-1,:] = Z[:,0] = Z[:,-1] = 0"
   ]
  },
  {
   "cell_type": "markdown",
   "metadata": {},
   "source": [
    "Even if this first version does not use nested loops, it is far from optimal because of the use of the 4 argwhere calls that may be quite slow. We can instead take advantages of numpy features the following way."
   ]
  },
  {
   "cell_type": "code",
   "execution_count": null,
   "metadata": {
    "collapsed": true
   },
   "outputs": [],
   "source": [
    "def iterate_2(Z):\n",
    "    # Count neighbours\n",
    "    N = (Z[0:-2,0:-2] + Z[0:-2,1:-1] + Z[0:-2,2:] +\n",
    "         Z[1:-1,0:-2]                + Z[1:-1,2:] +\n",
    "         Z[2:  ,0:-2] + Z[2:  ,1:-1] + Z[2:  ,2:])\n",
    "\n",
    "    # Apply rules\n",
    "    birth = (N==3) & (Z[1:-1,1:-1]==0)\n",
    "    survive = ((N==2) | (N==3)) & (Z[1:-1,1:-1]==1)\n",
    "    Z[...] = 0\n",
    "    Z[1:-1,1:-1][birth | survive] = 1\n",
    "    return Z"
   ]
  },
  {
   "cell_type": "markdown",
   "metadata": {},
   "source": [
    "Now, let's throw together a simple visualization for our Game of Life! Don't worry about the `matplotlib` code, we'll deal with it later."
   ]
  },
  {
   "cell_type": "code",
   "execution_count": null,
   "metadata": {
    "collapsed": false
   },
   "outputs": [],
   "source": [
    "import matplotlib.pyplot as plt\n",
    "from matplotlib import animation\n",
    "from IPython.display import Image\n",
    "%matplotlib inline"
   ]
  },
  {
   "cell_type": "markdown",
   "metadata": {},
   "source": [
    "The cell below saves our animated Game of Life as a `.gif` format on your computer."
   ]
  },
  {
   "cell_type": "code",
   "execution_count": null,
   "metadata": {
    "collapsed": false
   },
   "outputs": [],
   "source": [
    "Z = np.random.randint(0,2,(256,256))\n",
    "fig = plt.figure()\n",
    "ax = plt.axes()\n",
    "\n",
    "im = plt.imshow(Z, cmap='gray', interpolation='bicubic')\n",
    "\n",
    "def updatefig(*args):\n",
    "    im.set_array(iterate_2(Z))\n",
    "    return im,\n",
    "    \n",
    "ani = animation.FuncAnimation(fig, updatefig, interval=200, blit=True)\n",
    "\n",
    "ani.save('demonstration.gif', writer='imagemagick', fps=10)"
   ]
  },
  {
   "cell_type": "markdown",
   "metadata": {},
   "source": [
    "And now, load up the `.gif` file with:"
   ]
  },
  {
   "cell_type": "code",
   "execution_count": null,
   "metadata": {
    "collapsed": false
   },
   "outputs": [],
   "source": [
    "Image(url='demonstration.gif')"
   ]
  },
  {
   "cell_type": "markdown",
   "metadata": {},
   "source": [
    "# Lab: Gradient Descent\n",
    "\n",
    "For those of you who have taken linear algebra, or have dealt with problems involving solutions to systems of linear equations such as \n",
    "\n",
    "\\begin{align}\n",
    "a_{1,1}x_1 + a_{1,2}x_2 + \\cdots + a_{1,n}x_n &= b_1 \\\\\n",
    "a_{2,1}x_1 + a_{2,2}x_2 + \\cdots + a_{2,n}x_n &= b_2 \\\\\n",
    "\\vdots& \\\\\n",
    "a_{n,1}x_1 + a_{n,2}x_2 + \\cdots + a_{n,n}x_n &= b_n \\\\\n",
    "\\end{align}\n",
    "\n",
    "you might be familiar with Gaussian elimination, which provides a systematic way to find a solution, if one exists. Now, we can compactly write this system of equations as a _matrix-vector_ equation $A\\vec{x}=\\vec{b}$, where $$(A_{i,j})=a_{i,j},$$ \n",
    "$$\\vec{x}=(x_1, x_2, \\cdots, x_n)^T,$$\n",
    "and $$\\vec{b}=(b_1, b_2, \\cdots, b_n)^T.$$\n",
    "\n",
    "## Problems with Gaussian Elimination\n",
    "\n",
    "Gaussian elimination has some significant advantages. First off, it will always find a solution, if one exists, in a finite number of steps. This is a powerful property, but it comes at a cost. For an $n\\times n$ matrix $A$, Gaussian elimination is an $\\mathcal{O}(n^3)$ algorithm, which means that the number of steps required to solve the system is proportional to the **cube** of the number of rows or columns of the matrix.\n",
    "\n",
    "This isn't so bad for an $2\\times 2$ matrix, but it is downright impossible for an $10000\\times 10000$ one. So, we need to find a better approach.\n",
    "\n",
    "## Theory for Gradient Descent\n",
    "\n",
    "One alternative is the _method of gradient descent_. Consider a function $$f(\\vec{x})=\\frac{1}{2}\\vec{x}^T A \\vec{x} - \\vec{b}^T\\vec{x} + c,$$ where $A$ is a symmetric matrix, and $c$ is a scalar constant. Now, this implies that $f : \\mathbb{R}^n \\to \\mathbb{R}$, which means that $f$ is a scalar function of $n$ variables.\n",
    "\n",
    "Specifically, $f$ is a _quadratic_ function, and it has a minimum. One can show that gradient of $f$ is given by $$ \\nabla f(\\vec{x}) = A\\vec{x} - \\vec{b}$$ for symmetric matrices $A$. This means that by finding an $\\vec{x}$ that satisfies $\\nabla f(\\vec{x})=0$ will simultaneously solve the system of equations $A\\vec{x}=\\vec{b}$.\n",
    "\n",
    "You can visualize $f$ as a quadratic bowl, and the method of gradient descent looks for the minimum of the bowl.\n",
    "\n",
    "<img src=\"http://www.mathworks.com/matlabcentral/fileexchange/screenshots/6559/original.jpg\" width=\"300\" height=\"300\" alt=\"Iterations of Gradient Descent\"/>\n",
    "\n",
    "In the above image, we have the paraboloid formed by $f$, as well as the iterations of solutions given by the gradient descent algorithm. Alternatively, you can think about the contours of $f$, and for this you can think of gradient descent as updating the locations of the guesses in the following image.\n",
    "\n",
    "<img src=\"http://trond.hjorteland.com/thesis/img200.gif\" width=\"300\" height=\"300\" alt=\"Iterations of Gradient Descent on the Contours of f(x)\"/>\n",
    "\n",
    "Now, the gradient of a function points in the direction of greatest-initial increase of the function. Perhaps mysteriously, the _antigradient_, $-\\nabla f$ points in the direction of greatest-initial _decrease_ of $f$. So, to minimize $f(\\vec{x})$, we can follow $-\\nabla f$ all the way down until we reach the bottom of the bowl.\n",
    "\n",
    "##### Note:\n",
    "From here on out, $\\vec{x}$ and $\\vec{b}$ will _always_ denote vectors, so we will not include the $\\vec{\\cdot}$ notation.\n",
    "\n",
    "## Constructing the algorithm\n",
    "\n",
    "Suppose $x$ is the solution to the equation $Ax=b$. Imagine that you're given a _guess_ solution $x_{(i)}$. Then the _residual_ between the ideal solution and the guess is given by $$r_{(i)} = b - Ax_{(i)}.$$ Coincidentally, $r_{(i)}=-\\nabla f(x_{(i)})$, which means that when we update to $x_{(i+1)}$ we want to move in the direction of $r_{(i})$.\n",
    "\n",
    "So, when we update to $x_{(i+1)}$, we will update according to the rule $$x_{(i+1)} = x_{(i)} + \\alpha r_{(i)},$$ where $\\alpha$ is some number.\n",
    "\n",
    "What should $\\alpha$ be? We want to choose $\\alpha$ that makes the biggest improvement in one single step. It turns out that after doing some calculations, this $\\alpha$ is given by $$ \\alpha = \\frac{r_{(i)}^T r_{(i)}}{r_{(i)}^T A r_{(i)}}. $$\n",
    "\n",
    "### Gradient Descent Pseudocode\n",
    "\n",
    "Suppose you are given a matrix $A$ that is square and symmetric, along with a vector $b$. Here is how Gradient Descent works:\n",
    "\n",
    "1. Set $i=0$.\n",
    "2. Initialize $x_0$.\n",
    "3. Set $r_i = b - Ax_i$.\n",
    "4. Let $\\alpha = \\dfrac{r_i^Tr_i}{r_i^TAr_i}$\n",
    "5. Set $x_{i+1} = x_i + \\alpha r_i$.\n",
    "6. Increment $i$.\n",
    "7. Go back to step (3).\n",
    "\n",
    "### Terminating the algorithm\n",
    "\n",
    "When $f(x_{(i)})$ is very close to the minimum, the vector $x_{(i)}$ is very close to the solution $x$. So, the residual vector $r_{(i)}$ is very close to the zero vector. In other words, the _magnitude_ of $r_{(i)}$ is approximately 0.\n",
    "\n",
    "We can use this to build a terminating condition. Since the magnitude of $r_{(i)}$ is given by $$\\|r_{(i)}\\| = r_{(i)}^Tr_{(i)},$$ we can tell our algorithm to stop as soon as $\\|r_{(i)}\\|$ is below some error tolerance.\n",
    "\n",
    "## Try It!\n",
    "\n",
    "We are now going to build and test an algorithm that applies the gradient descent method. Use the Gradient Descent Pseudocode to build a gradient descent algorithm. Remember, this function will take a symmetric matrix and a vector as inputs.\n",
    "\n",
    "### Test\n",
    "\n",
    "Try testing your algorithm with the matrices:\n",
    "$A = \\begin{bmatrix} 3 & 2 \\\\ 2 & 6 \\\\ \\end{bmatrix}$ and $b = \\begin{bmatrix} 2 \\\\ -8\\\\ \\end{bmatrix}$\n",
    "Your algorithm should produce:\n",
    "$x = \\begin{bmatrix} 2 \\\\ -2 \\end{bmatrix}$\n",
    "\n",
    "### Real Test\n",
    "\n",
    "Now it is time to test your algorithm with an arbitrary large matrix.\n",
    "First, we have to generate a large matrix\n",
    "\n",
    "```Python\n",
    "def generate_large_matrix(n):\n",
    "    A = np.random.random_intergers(-100,100,(n,n)) # Generate a square matrix with int entries in [-100,100]\n",
    "    A = A.T.dot(A) #Makes a matrix symmetric\n",
    "    A[A<0] = 0 #Makes all matrix entries positive\n",
    "    return A\n",
    "```\n",
    "\n",
    "Now we have to generate a vector\n",
    "```Python\n",
    "def generate_vector(n):\n",
    "    b = np.random.random_intergers(-100,100,n)\n",
    "    return b\n",
    "```\n",
    "Input the generated matrix and vector into your algorithm. (Make sure that the $n$ for the large matrix is the same as the $n$ for the vector.) \n",
    "\n",
    "Did it work? (Hopefully, yes.)"
   ]
  }
 ],
 "metadata": {
  "kernelspec": {
   "display_name": "Python 2",
   "language": "python",
   "name": "python2"
  },
  "language_info": {
   "codemirror_mode": {
    "name": "ipython",
    "version": 2
   },
   "file_extension": ".py",
   "mimetype": "text/x-python",
   "name": "python",
   "nbconvert_exporter": "python",
   "pygments_lexer": "ipython2",
   "version": "2.7.9"
  }
 },
 "nbformat": 4,
 "nbformat_minor": 0
}
