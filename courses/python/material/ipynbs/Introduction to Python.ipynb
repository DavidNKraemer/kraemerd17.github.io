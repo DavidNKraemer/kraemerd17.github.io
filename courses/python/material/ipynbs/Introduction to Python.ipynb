{
 "cells": [
  {
   "cell_type": "markdown",
   "metadata": {},
   "source": [
    "# Outline"
   ]
  },
  {
   "cell_type": "markdown",
   "metadata": {},
   "source": [
    "* Introduction to `Python`\n",
    "* Installing `Python`\n",
    "* Installing `IPython`\n",
    "* Installing additional libraries\n",
    "    * `NumPy`\n",
    "    * `pandas`\n",
    "    * `Matplotlib`\n",
    "* A brief overview of syntax in `Python`\n",
    "* Some Labs"
   ]
  },
  {
   "cell_type": "markdown",
   "metadata": {},
   "source": [
    "# Installing `Python`\n",
    "\n",
    "For this course, we will use `Python 2.7` over `Python 3.4`. Why is this? No particular reason, although `Python 2.7` is still the overall favorite of most developers. We will only be covering tools that are agnostic to the `2.7-3.4` war, so it shouldn't matter much.\n",
    "\n",
    "If you plan to install `Python` to your computer locally, you will have to install not only the `Python` libraries and interpreters themselves but the additional software that we will use throughout the course. This is a huge pain, and while this can be done manually, we highly recommend you use a third-party package management program.\n",
    "\n",
    "We have experimented with each of the different package management tools, and our favorite is Anaconda, provided by Continuum analytics. However, you can make your set-up work with any package manager. We just think it's the easiest with Anaconda.\n"
   ]
  },
  {
   "cell_type": "markdown",
   "metadata": {},
   "source": [
    "## Anaconda\n",
    "To install Anaconda, go the [Continuum Store](https://store.continuum.io/cshop/anaconda/) and select \"Download Anaconda.\" This will require you to enter an email address, though this does not have to be linked to promotional emails. After doing this, you will be sent to a page to download the correct version for your local operating system. Download the correct installer for your OS, and run the corresponding installation programs once it is complete. \n",
    "\n",
    "For Unix users, this means moving to the Downloads directory and entering \n",
    "\n",
    "```Bash\n",
    "bash Anaconda-2.1.0-[Linux or MacOSX]-x86_[32 or 64].sh\n",
    "```\n",
    "\n",
    "The instructions are on the download page. For Windows users, just double-click the `.exe` file and follow the requisite instructions.\n",
    "\n",
    "Once Anaconda is installed, open a terminal and type \n",
    "\n",
    "```Bash\n",
    "conda update conda\n",
    "conda update ipython ipython-notebook ipython-qtconsole\n",
    "```\n",
    "\n",
    "This should install the IPython software we will use throughout the course, while also updating all of the `Python` libraries."
   ]
  },
  {
   "cell_type": "markdown",
   "metadata": {},
   "source": [
    "### Wakari Cloud\n",
    "\n",
    "If you don't want to install `Python` packages locally, Continuum Analytics has a cloud-based solution, Wakari. It's not designed for extensive individual use, and it hasn't updated IPython to the latest version, but it is permissible for our course. To get started, make an account on [Wakari.io](https://wakari.io/), which will give you your own directory for IPython projects."
   ]
  },
  {
   "cell_type": "markdown",
   "metadata": {},
   "source": [
    "## Canopy\n",
    "\n",
    "Canopy is an alternative to Anaconda, which includes its own integrated development environment on top of a package manager. We don't recommend using Canopy because we found it difficult to update to the latest version of the IPython notebook, and there seems to be issues with the `matplotlib` engine outside of the Canopy IDE.\n",
    "\n",
    "However, if you desire, you can install Canopy by going to the [Enthought Store](https://store.enthought.com/downloads/) and selecting \"DOWNLOAD Canopy Express\". This will require that you make an account with Enthought. One benefit of making an account and then identifying yourself as a student is that it can give you access to tutorial videos on `Python` and its data analysis libraries (this privilege can be finicky, however).\n",
    "\n",
    "From there, simply install the Canopy program that you download from the site, and open it. Canopy gives a graphical package manager, which you might find appealing (we don't)."
   ]
  },
  {
   "cell_type": "markdown",
   "metadata": {},
   "source": [
    "## Manual installation\n",
    "\n",
    "Manual installation is, simply put, a pain in the neck. We don't recommend doing this, because it is quite complicated. To be fair, we will call using `pip` as manual installation, even though this simplifies true manual installation quite significantly. In fact, we won't go into details (to discourage you from trying). It can be done, by following (roughly) these steps:\n",
    "\n",
    "* Downloading and installing `Python 2.7` (or `3.4`) from the [Official Website](https://www.python.org/downloads/)\n",
    "* Hopefully, after the installation, you can call the program `python` from the terminal. This is not guaranteed. If you are lucky, download [get-pip.py](https://bootstrap.pypa.io/get-pip.py), and run `python get-pip.py` from the relevant directory.\n",
    "* This should install `pip`. From here, run\n",
    "```Bash\n",
    "pip install numpy\n",
    "pip install scipy\n",
    "pip install matplotlib\n",
    "pip install pandas\n",
    "pip install ipython[all]\n",
    "```\n",
    "* If the gods are smiling on you, this will install everything you need for this class, and you should be good to go."
   ]
  },
  {
   "cell_type": "markdown",
   "metadata": {},
   "source": [
    "## A simple `Python` script\n",
    "\n",
    "Open a terminal (Windows users: your \"terminal\" is technically called the Command Prompt, `cmd.exe`, but we will use \"terminal\" colloquially) and enter `ipython`. Check to see that the packages we will be using in this course are properly installed by entering the following code into the terminal:\n",
    "\n",
    "```Bash\n",
    "ipython\n",
    "```\n",
    "\n",
    "If everything is installed properly, this should launch the `IPython` shell. This is a simple interpreter, which is handy to use from time to time, but we will not use it in this course. However, we can take this opportunity to write a simple line of code into the interpreter:\n",
    "```Python\n",
    "print \"Hello, world!\"\n",
    "```\n",
    "Congratulations, you have officially been inducted into the wonderful world of computing in `Python`!\n",
    "\n",
    "# Python basics\n",
    "\n",
    "`Python` works like other programming languages in that it has some built-in types:\n",
    "\n",
    "* `int`, an integer type (default precision: 32-bit)\n",
    "* `float`, a floating-point type (default precision: 64-bit)\n",
    "* `long`, an integer type (unlimited precision)\n",
    "* `str`, a string literal type\n",
    "* `Boolean`, a boolean type\n",
    "\n",
    "Variable initialization in `Python` is different than the `C` family of languages because variable type is **not** specified. In `C`, you have to declare the type immediately:\n",
    "```C\n",
    "double var = 1.61;\n",
    "```\n",
    "The equivalent `Python` code is\n",
    "```Python\n",
    "var = 1.61\n",
    "```\n",
    "\n",
    "### Try it!\n",
    "Open an `IPython Notebook` file. \n",
    "```Bash\n",
    "ipython notebook\n",
    "```\n",
    "Use the next few examples to get a feel for `Python`'s style of variables."
   ]
  },
  {
   "cell_type": "code",
   "execution_count": null,
   "metadata": {
    "collapsed": false
   },
   "outputs": [],
   "source": [
    "a = 10\n",
    "b = 20\n",
    "print a + b\n",
    "print a == b\n",
    "print not ( a > b)"
   ]
  },
  {
   "cell_type": "markdown",
   "metadata": {},
   "source": [
    "## Arithmetic\n",
    "`Python` arithmetic is what you would expect. `+, -, *, /` are all defined as normal, but the operation `x ** y` is equivalent to $x^y$.\n",
    "\n",
    "## Pointers in Python: \n",
    "What do you expect will happen when you run the following code?"
   ]
  },
  {
   "cell_type": "code",
   "execution_count": null,
   "metadata": {
    "collapsed": false
   },
   "outputs": [],
   "source": [
    "x = 10.42\n",
    "y = x\n",
    "x += 12.\n",
    "print y\n",
    "\n",
    "str1 = \"Hello\"\n",
    "str2 = str1\n",
    "str1 += \" world!\"\n",
    "print str2"
   ]
  },
  {
   "cell_type": "markdown",
   "metadata": {},
   "source": [
    "In `Python`, everything is a pointer, but `Python` will try to behave like you intend it to (no horrible `C`-like issues).\n",
    "\n",
    "Boolean expressions in `Python` are designed with readability in mind. What do you expect the following output will be?"
   ]
  },
  {
   "cell_type": "code",
   "execution_count": null,
   "metadata": {
    "collapsed": false
   },
   "outputs": [],
   "source": [
    "x = 1.23 \n",
    "y = -0.5\n",
    "bool_one = (x >= y)\n",
    "bool_two = (y ** 2 + 2 < x)\n",
    "\n",
    "print (not bool_one) or bool_two\n",
    "print bool_one is not bool_two"
   ]
  },
  {
   "cell_type": "markdown",
   "metadata": {},
   "source": [
    "## Lists\n",
    "\n",
    "There is not a native array type in `Python` like there is in `C` and `Java`. Instead, `Python` follows a similar model to `Scheme` in that the core native \"iterable\" data type is a (linked) list. Lists are initialized in `Python` by\n",
    "\n",
    "```Python\n",
    "my_list = [1, 2, 3, 4, 5]\n",
    "```\n",
    "\n",
    "Lists indices begin at 0 (Sorry, `MATLAB` and `R` users), so `my_list[0] = 1`. Lists are endowed with some very useful functions:\n",
    "\n",
    "* `append`, which adds an element to the end of the list.\n",
    "* `index`, which searches a list for a particular value.\n",
    "* `insert`, which adds an element after a specified location.\n",
    "\n",
    "One important concept in `Python` is list _slicing_, which allows you to quickly access sections of a list without much code overhead. For example, if I wish to obtain the middle three elements of `my_list`, I can simply type\n",
    "\n",
    "```Python\n",
    "mid_three = my_list[1:4:1]\n",
    "```\n",
    "\n",
    "The braces `[1:4:1]` should be read as telling the list to start at the 1th (that is, second) index and go until the 4th (that is, fifth) index, incrementing by 1. So, the 1 is \"inclusive\", whereas the 4 is \"exclusive.\" One can reach the last element of a list easily without knowing the length of the list by writing `my_list[-1]`. In general, the `-` indicates that you want to traverse the list in the opposite direction.\n",
    "\n",
    "### Try it!\n",
    "\n",
    "What do you expect the following code will produce?"
   ]
  },
  {
   "cell_type": "code",
   "execution_count": null,
   "metadata": {
    "collapsed": false
   },
   "outputs": [],
   "source": [
    "example = [3., 5., 7., 9., 11., 14.]\n",
    "\n",
    "example.append(82.)\n",
    "\n",
    "example.insert(3, 1.)\n",
    "\n",
    "print \"Example: \\t\", example\n",
    "print \"\\t\\t\", example[0:2] \n",
    "print \"\\t\\t\", example[3:]\n",
    "print \"\\t\\t\", example[::-1]"
   ]
  },
  {
   "cell_type": "markdown",
   "metadata": {},
   "source": [
    "## Conditionals\n",
    "`Python` uses `if-elif-else` branching very much like the `C` family uses `if-else if-else` statements. There is no `Python` equivalent to `switch`. \n",
    "\n",
    "```Python\n",
    "if True:\n",
    "    print \"this will happen\"\n",
    "else: \n",
    "    print \"this will not happen\"\n",
    "```\n",
    "\n",
    "Notice that `Python` is sensitive to white-spaces. The `IPython Notebook` is clever enough to handle proper spacing for you.\n",
    "\n",
    "### Try it!\n",
    "What do you think will happen when you execute the following snippets of code?"
   ]
  },
  {
   "cell_type": "code",
   "execution_count": null,
   "metadata": {
    "collapsed": false
   },
   "outputs": [],
   "source": [
    "if 1 < 0:\n",
    "    print \"1 < 0\"\n",
    "elif 1 > 2:\n",
    "    print \"1 > 2\"\n",
    "else:\n",
    "    if 1 <= 1:\n",
    "    print \"1 <= 1\""
   ]
  },
  {
   "cell_type": "code",
   "execution_count": null,
   "metadata": {
    "collapsed": false
   },
   "outputs": [],
   "source": [
    "if len(\"this\") < 4:\n",
    "    print \"what do you think len() does?\"\n",
    "elif (3 + 4 - 6**2 < 0):\n",
    "    print \"7 - 36 < 0\""
   ]
  },
  {
   "cell_type": "markdown",
   "metadata": {},
   "source": [
    "The `if` condition can be used independently of `elif` and `else`, much like in `C`. But if you use `elif`, you must use an `else`.\n",
    "\n",
    "### Loops\n",
    "There are two main loop constructions in `Python`: `for` and `while`. The `while` loop operates much like its `C` counterpart does. It is given a boolean statement that, while true, executes the subsequent code."
   ]
  },
  {
   "cell_type": "code",
   "execution_count": null,
   "metadata": {
    "collapsed": false
   },
   "outputs": [],
   "source": [
    "a = 0\n",
    "while a < 10:\n",
    "    print a**2\n",
    "    a += 1"
   ]
  },
  {
   "cell_type": "markdown",
   "metadata": {},
   "source": [
    "The `for` loop, by contrast, operates differently than the C version. In C, there are three parts\n",
    "\n",
    "```C\n",
    "for (loop initialization ; condition ; update)\n",
    "{\n",
    "    code;\n",
    "}\n",
    "```\n",
    "\n",
    "In this sense, `for` is structurally identical to `while`; it just is set up differently. In `Python`, `for` takes some sort of _iterable_ type and iterates through it:"
   ]
  },
  {
   "cell_type": "code",
   "execution_count": null,
   "metadata": {
    "collapsed": false
   },
   "outputs": [],
   "source": [
    "for name in ['Adam', 'Amy', 'Alex', 'Alfonzo', 'Adrianne', 'Abbie', 'Al']:\n",
    "    print name, \"is cool\""
   ]
  },
  {
   "cell_type": "markdown",
   "metadata": {},
   "source": [
    "The variable `name` cycles through the list of names, printing it in each step of the loop. This is essentially the same as `Java`'s enhanced `for` loop, and you will learn to love it. If you don't, and you just want to have an index `i` to go from 0 to 9, you can use"
   ]
  },
  {
   "cell_type": "code",
   "execution_count": null,
   "metadata": {
    "collapsed": false
   },
   "outputs": [],
   "source": [
    "for i in range(10):\n",
    "    print i"
   ]
  },
  {
   "cell_type": "markdown",
   "metadata": {},
   "source": [
    "This achieves the same effect as the C `for` loop.\n",
    "\n",
    "## Functions\n",
    "\n",
    "In `Python`, functions are easy to program. The general syntax is as follows:\n",
    "\n",
    "```Python\n",
    "def foo(args):\n",
    "    [do stuff]\n",
    "    return bar # optional\n",
    "```\n",
    "\n",
    "Simply pass the arguments you want to include into the function, do whatever you want inside the function (don't forget the whitespace!), and `return` as you would in `C`.\n",
    "\n",
    "### Try it!\n",
    "\n",
    "1. Write a function, `print_args`, that prints each argument passed to it in one line.\n",
    "2. Write a function, `list_float_to_int`, that converts an integer list into a float list.\n",
    "3. Write a function, `centered_average`, which returns the arithmetic average of a list, excluding the largest and the smallest elements.\n",
    "\n",
    "# Lab Activity: The Bisection Method\n",
    "\n",
    "Those of you who have taken a few computer science courses may have learned about something called the \"Binary Search\", which allows you to quickly find an element of an unordered list. We will extend this idea to allow us to find roots of continuous functions over a closed interval.\n",
    "\n",
    "The idea for this procedure comes from the Intermediate Value Theorem: if you have a continuous function $f(x)$ on an interval $[a,b]$ for which you know that $f(a)<0$ but $f(b)>0$, then there must be some intermediary point $c$ satisfying $f(c)=0$. The Bisection Method provides us with a procedure for finding such a $c$. Here's how it works:\n",
    "\n",
    "1. Start with a function $f(x)$ on an interval $[a,b]$ that you know it is continuous over.\n",
    "2. Evaluate $f(a)$ and $f(b)$. Figure out which direction is positive and which one is negative. (Let's assume $f(a)<0$ and $f(b)>0$ for this description).\n",
    "3. Choose the point $c'=\\dfrac{a+b}{2}$, and evaluate $f(c')$.\n",
    "4. If $f(c')<0$, then you know that the root of the function must be to the right of $c'$, so set $a=c'$ and repeat this search.\n",
    "5. If $f(c')>0$, then you know that the root of the function must be to the left of $c'$, so set $b=c'$ and repeat this search.\n",
    "6. Continue until you reach an arbitrary precision of your choice (or terminating after a finite number of steps).\n",
    "\n",
    "Your task is to implement this function in `Python`. Use this to come up with an approximation of $\\pi$. _Bonus_: Store an array to keep track of all of your $c'$ values.\n",
    "\n",
    "### Our solution\n",
    "\n",
    "```Python\n",
    "from numpy import sin\n",
    "def bisection_method(ufunc, a, b, N):\n",
    "    err = 1e-20\n",
    "    if ufunc(a) > 0.: # forces f(a) to be a lower bound\n",
    "        temp = a\n",
    "        a = b\n",
    "        b = temp\n",
    "    c = 0.5 * (a + b)\n",
    "    fc = ufunc(c)\n",
    "    cvals = [c]\n",
    "    for i in range(N):\n",
    "        if -err < fc and fc < err: # if fc is within an error tolerance of 0\n",
    "            return c\n",
    "        elif fc < 0.:\n",
    "            a = c\n",
    "        else:\n",
    "            b = c\n",
    "        c = 0.5 * (a + b)\n",
    "        cvals.append(c)\n",
    "        fc = ufunc(c)\n",
    "    return c, cvals\n",
    "```\n",
    "\n",
    "Alternatively, you can implement this recursively.\n",
    "\n",
    "```Python\n",
    "def bisection_method_rec(ufunc, a, b, N):\n",
    "    err = 1e-20\n",
    "    if ufunc(a) > 0.:\n",
    "        return bisection_method_rec(ufunc, b, a, N)\n",
    "    c = 0.5 * (a + b)\n",
    "    fc = ufunc(c)\n",
    "    for i in range(N):\n",
    "        if abs(fc) < err or N == 0:\n",
    "            return c\n",
    "        elif fc < 0.:\n",
    "            return bisection_method_rec(ufunc, c, b, N-1)\n",
    "        else:\n",
    "            return bisection_method_rec(ufunc, a, c, N-1)\n",
    "    return c\n",
    "```"
   ]
  },
  {
   "cell_type": "code",
   "execution_count": null,
   "metadata": {
    "collapsed": false
   },
   "outputs": [],
   "source": [
    "def bisection_method_rec(ufunc, a, b, N):\n",
    "    err = 1e-20\n",
    "    if ufunc(a) > 0.:\n",
    "        return bisection_method_rec(ufunc, b, a, N)\n",
    "    c = 0.5 * (a + b)\n",
    "    fc = ufunc(c)\n",
    "    for i in range(N):\n",
    "        if abs(fc) < err or N == 0:\n",
    "            return c\n",
    "        elif fc < 0.:\n",
    "            return bisection_method_rec(ufunc, c, b, N-1)\n",
    "        else:\n",
    "            return bisection_method_rec(ufunc, a, c, N-1)\n",
    "    return c"
   ]
  },
  {
   "cell_type": "code",
   "execution_count": null,
   "metadata": {
    "collapsed": false
   },
   "outputs": [],
   "source": [
    "print bisection_method_rec(lambda x: x*x - 3., 0., 2., 100)"
   ]
  },
  {
   "cell_type": "code",
   "execution_count": null,
   "metadata": {
    "collapsed": false
   },
   "outputs": [],
   "source": [
    "from IPython.display import Image\n",
    "\n",
    "Embed = Image(\"convergence.png\")\n",
    "\n",
    "Embed"
   ]
  },
  {
   "cell_type": "markdown",
   "metadata": {},
   "source": [
    "# Some advanced topics\n",
    "Here's just a brief overview of the more advanced things you can do in `Python`. We won't use them in class, but it's good to know about them.\n",
    "\n",
    "## Classes\n",
    "`Python` can be object-oriented like `Java`. You declare classes as follows:\n",
    "\n",
    "```Python\n",
    "class My_Class:\n",
    "    self.field_one\n",
    "    self.field_two\n",
    "    \n",
    "    def __init__(args): # Equivalent to constructors in Java\n",
    "        # Initialization routine\n",
    "        # Every class needs one\n",
    "       \n",
    "    def method_one(args):\n",
    "        [do stuff]\n",
    "```\n",
    "\n",
    "Object-oriented programming favors modularity, bringing wonderful returns to scale. In `Python`, class fields and methods must always be specified with the `self` keyword, similar to `this` in `Java`. Unlike in `Java`, this is not optional in `Python`. Method overriding is also not supported in `Python`.\n",
    "\n",
    "## Lambda functions\n",
    "`Python` can be functional like `Scheme`. A lambda function uses the following syntax:\n",
    "\n",
    "```Python\n",
    "   lambda x: x**2\n",
    "```\n",
    "\n",
    "For example, instead of including a predefined function in `bisection_method`, you could use a lambda function. Lambdas and other household names for the functional programmer are built in, such as:\n",
    "* `map`\n",
    "* `filter`\n",
    "* `reduce`\n",
    "\n",
    "If you like Scheme, you can make `Python` as functional as you want.\n",
    "\n",
    "## Comprehensions\n",
    "In `Python` one important and useful tool is called list (or other Iterable) _comprehensions_. They allow you to construct lists from following rules, without the amount of code overhead that you might see in `C` or `Java`.\n",
    "\n",
    "For example. Suppose you want to construct a list of all nonnegative even integers less than 20. The naive approach is to use some sort of loop:\n",
    "\n",
    "```Python\n",
    "evens = []\n",
    "for i in range(20):\n",
    "    if i % 2 == 0:\n",
    "        evens.append(i)\n",
    "```\n",
    "\n",
    "Comprehensions allow you to take this routine and make it more concise. Instead, you can write\n",
    "\n",
    "```Python\n",
    "evens = [i for i in range(20) if i % 2 == 0]\n",
    "```\n",
    "\n",
    "For those of you who are comfortable with simple set theory, this is equivalent to saying\n",
    "\n",
    "$$ \\textrm{Evens} = \\{ i \\in \\mathbb{N} : i < 20, i\\equiv 0 \\bmod{2} \\}$$\n",
    "\n",
    "Comprehensions are a great way to make your code readable and concise. They cost a bit more (in terms of microseconds), but often the philosophy of `Python` is that readable code is preferable to slightly-faster ugly code.\n"
   ]
  }
 ],
 "metadata": {
  "kernelspec": {
   "display_name": "Python 2",
   "language": "python",
   "name": "python2"
  },
  "language_info": {
   "codemirror_mode": {
    "name": "ipython",
    "version": 2
   },
   "file_extension": ".py",
   "mimetype": "text/x-python",
   "name": "python",
   "nbconvert_exporter": "python",
   "pygments_lexer": "ipython2",
   "version": "2.7.9"
  }
 },
 "nbformat": 4,
 "nbformat_minor": 0
}
