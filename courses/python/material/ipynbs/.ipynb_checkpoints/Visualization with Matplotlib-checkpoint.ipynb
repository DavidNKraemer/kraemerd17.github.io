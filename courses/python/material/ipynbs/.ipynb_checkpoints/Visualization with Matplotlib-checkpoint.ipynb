{
 "cells": [
  {
   "cell_type": "markdown",
   "metadata": {},
   "source": [
    "# Overview of `matplotlib`"
   ]
  },
  {
   "cell_type": "markdown",
   "metadata": {},
   "source": [
    "So far in our course, we've covered basic `Python` to more advanced features of `Python`'s array processing and data analysis libraries. While we have gotten into the meat of handling numbers themselves, it would be nice to have a library of tools to visualize these underlying data in a powerful but aesthetic way. The solution, which has become a massive open-source project in its own right, is `matplotlib`. From the `matplotlib` [homepage](http://matplotlib.org/1.2.1/index.html):\n",
    "\n",
    "> `matplotlib` is a python 2D plotting library which produces publication quality figures in a variety of hardcopy formats and interactive environments across platforms. matplotlib can be used in python scripts, the python and ipython shell (ala MATLAB® or Mathematica®†), web application servers, and six graphical user interface toolkits.\n",
    "\n",
    "> `matplotlib` tries to make easy things easy and hard things possible. You can generate plots, histograms, power spectra, bar charts, errorcharts, scatterplots, etc, with just a few lines of code. For a sampling, see the [screenshots](http://matplotlib.org/1.2.1/users/screenshots.html), \n",
    "[thumbnail gallery](http://matplotlib.org/1.2.1/gallery.html),\n",
    "and [examples directory](http://matplotlib.org/1.2.1/examples/index.html).\n",
    "\n",
    "> For the power user, you have full control of line styles, font properties, axes properties, etc, via an object oriented interface or via a set of functions familiar to MATLAB users."
   ]
  },
  {
   "cell_type": "markdown",
   "metadata": {},
   "source": [
    "Let's import all of the libraries we will use in this session."
   ]
  },
  {
   "cell_type": "code",
   "execution_count": null,
   "metadata": {
    "collapsed": false
   },
   "outputs": [],
   "source": [
    "from __future__ import division\n",
    "import numpy as np\n",
    "import matplotlib.pyplot as plt\n",
    "np.random.seed(12345)\n",
    "plt.rc('figure', figsize=(5, 5))\n",
    "from pandas import Series, DataFrame\n",
    "import pandas as pd\n",
    "np.set_printoptions(precision=4)"
   ]
  },
  {
   "cell_type": "markdown",
   "metadata": {},
   "source": [
    "When you use the `IPython` notebook, you can print plots to the output of individual cells by including the magic command:"
   ]
  },
  {
   "cell_type": "code",
   "execution_count": null,
   "metadata": {
    "collapsed": true
   },
   "outputs": [],
   "source": [
    "%matplotlib inline"
   ]
  },
  {
   "cell_type": "markdown",
   "metadata": {},
   "source": [
    "There are two ways to think about creating and displaying plots using `matplotlib`. The first, and simpler, approach is the imperative, \"scripting\" paradigm. Modeled after the plotting functionality of MATLAB, this gives you an easy way to generate a large quantity of plots.\n",
    "\n",
    "The second paradigm is the object-oriented approach, which requires a larger amount of initial code, but with a much higher degree of flexibility and robust functionality."
   ]
  },
  {
   "cell_type": "markdown",
   "metadata": {},
   "source": [
    "# The MATLAB approach"
   ]
  },
  {
   "cell_type": "markdown",
   "metadata": {},
   "source": [
    "The main module that we use to generate plots is the `pyplot` submodule of `matplotlib`. According to established convention, we import this module as follows:"
   ]
  },
  {
   "cell_type": "code",
   "execution_count": null,
   "metadata": {
    "collapsed": true
   },
   "outputs": [],
   "source": [
    "import matplotlib.pyplot as plt"
   ]
  },
  {
   "cell_type": "markdown",
   "metadata": {},
   "source": [
    "From now on, we will use `plt` to denote methods and fields in the `pyplot` module. Here is a simple demonstration of the MATLAB approach to plotting."
   ]
  },
  {
   "cell_type": "code",
   "execution_count": null,
   "metadata": {
    "collapsed": false
   },
   "outputs": [],
   "source": [
    "x = np.arange(0,10,0.1) # generates an ndarray from 0 to 9.9\n",
    "plt.plot(np.sin(x))"
   ]
  },
  {
   "cell_type": "markdown",
   "metadata": {},
   "source": [
    "The `plot` function takes an array-like type and produces a line plot of the array. If you give `plot` a single array, it will implicitly assume that you mean to plot coordinate pairs $(i,arr[i])$, where $i$ is an integer.\n",
    "\n",
    "Instead, you can pass two arrays $x$ and $y$ (of the same size), which produces a plot of coordinates $(x[i], y[i])$."
   ]
  },
  {
   "cell_type": "code",
   "execution_count": null,
   "metadata": {
    "collapsed": false
   },
   "outputs": [],
   "source": [
    "x = np.arange(0,2.0*np.pi, 0.01)\n",
    "plt.plot(np.cos(x),np.sin(x))\n",
    "plt.xlim([-1.1,1.1])\n",
    "plt.ylim([-1.1,1.1])"
   ]
  },
  {
   "cell_type": "markdown",
   "metadata": {},
   "source": [
    "It is very simple to customize the style of the plots."
   ]
  },
  {
   "cell_type": "code",
   "execution_count": null,
   "metadata": {
    "collapsed": true
   },
   "outputs": [],
   "source": [
    "plt.plot?"
   ]
  },
  {
   "cell_type": "markdown",
   "metadata": {},
   "source": [
    "##### Line color and marker arguments\n",
    "\n",
    "By passing in an optional character argument, you can specify the color of the line being plotted. \n",
    "\n",
    "| Character | Color |\n",
    "|-----------|-------|\n",
    "| `'b'`     | blue  |\n",
    "| `'g'`     | green |\n",
    "| `'r'`     | red   |\n",
    "| `'c'`     | cyan  |\n",
    "| `'m'`   | magenta |\n",
    "| `'y'`    | yellow |\n",
    "| `'k'`     | black |\n",
    "| `'w'`     | white |\n",
    "\n",
    "Alternatively, you can specify a custom (e.g. hexadecimal) color by passing a `color=#123456` argument. \n",
    "\n",
    "For customizing the line marker shapes, you can specify from a number of built-in arguments.\n",
    "\n",
    "| Character | Description | Character | Description |\n",
    "|-----------|-------------|-----------|-------------|\n",
    "|`'-'`      |       solid line style |`'3'`     |        tri_left marker |\n",
    "|`'--'`     |       dashed line style |`'4'`      |       tri_right marker |\n",
    "|`'-.'`      |      dash-dot line style |`'s'`       |      square marker |\n",
    "|`':'`        |     dotted line style |`'p'`        |     pentagon marker |\n",
    "|`'.'`         |    point marker | `'*'`         |    star marker | \n",
    "|`','`          |   pixel marker |`'h'`          |   hexagon1 marker |\n",
    "|`'o'`           |  circle marker |`'H'`           |  hexagon2 marker |\n",
    "|`'v'`            | triangle_down marker |`'+'`            | plus marker |\n",
    "|`'^'`|             triangle_up marker |`'x'`    |         x marker |\n",
    "|`'<'` |            triangle_left marker |`'D'`     |        diamond marker |\n",
    "|`'>'`  |           triangle_right marker |`'d'`      |       thin_diamond marker |\n",
    "|`'1'`   |          tri_down marker | `'_'`        |     hline marker |\n",
    "|`'2'`    |         tri_up marker |"
   ]
  },
  {
   "cell_type": "markdown",
   "metadata": {},
   "source": [
    "There are even more keyword arguments, but we won't go into the details here. Here is a simple example:"
   ]
  },
  {
   "cell_type": "code",
   "execution_count": null,
   "metadata": {
    "collapsed": false
   },
   "outputs": [],
   "source": [
    "x = np.arange(0,10,0.2)\n",
    "plt.plot(np.sin(x), '1')\n",
    "plt.plot(np.cos(x), ':')\n",
    "plt.plot(np.sqrt(x), 'm', drawstyle='steps-post')"
   ]
  },
  {
   "cell_type": "markdown",
   "metadata": {},
   "source": [
    "Notice that calling `plot` several times in one cell allows you to plot several graphs on one figure.\n",
    "\n",
    "Now, let's customize the title, labels, legend, and ticks of the plot. In the MATLAB paradigm, we can use simple figure methods like `title`, `xlabel`, and `ylabel`, as well as call the `legend` method. To specify a legend string, include the optional argument `label` in the plot method."
   ]
  },
  {
   "cell_type": "code",
   "execution_count": null,
   "metadata": {
    "collapsed": false
   },
   "outputs": [],
   "source": [
    "x = np.random.randn(1000)\n",
    "y = np.random.randn(1000)\n",
    "\n",
    "plt.plot(x.cumsum(), 'k', label='A random walk ($X(n)$)')\n",
    "plt.plot(y.cumsum(), 'r--', label='Another walk ($Y(n)$)')\n",
    "\n",
    "# Title and labels\n",
    "plt.title('This is the figure title')\n",
    "plt.xlabel('The horizontal axis ($n$)')\n",
    "plt.ylabel('The vertical axis')\n",
    "\n",
    "# Tick values\n",
    "plt.xticks(range(0,1001,250), rotation=30)\n",
    "plt.yticks(range(-50,51, 20))\n",
    "\n",
    "plt.legend(loc='best') # especially useful for random data"
   ]
  },
  {
   "cell_type": "markdown",
   "metadata": {},
   "source": [
    "If you notice carefully, `matplotlib` can render $\\LaTeX$ in title, axis, and legend strings. Simply include the $\\LaTeX$ dollar sign and `matplotlib` will do the rest for you. Now, there are tricky grey-areas with this functionality. For example, if you want to typeset the Greek letter $\\tau$ on your plots, `matplotlib` will not properly interpret the string. (Why is this? See if you can figure out why.) To force `matplotlib` to interpret strings literally, you can instead write `r'$\\tau$'`, which will tell `matplotlib` to ignore the formatting ambiguity.\n",
    "\n",
    "There are tons of ways to customize your plots further, but we'll leave this to your exploration of the `matplotlib` documentation."
   ]
  },
  {
   "cell_type": "markdown",
   "metadata": {},
   "source": [
    "# The object-oriented approach"
   ]
  },
  {
   "cell_type": "markdown",
   "metadata": {},
   "source": [
    "Whereas in the MATLAB approach, all plotting activity was centered around the `matplotlib` _figure_, the object-oriented approach shifts this attention to the _axis_.\n",
    "\n",
    "When you begin plotting, you first initialize a figure and then add axes to the figure. Each axis now functions as its own plotting environment, which allows you to specify all of the previous functions nearly identically as before.\n",
    "\n",
    "Why go to all of this work to specify the axis objects? The immediate advantage is that you can now easily construct **several** axes on one figure, which is an ability I have personally found incredibly useful.\n",
    "\n",
    "Here is a simple way to get started:"
   ]
  },
  {
   "cell_type": "code",
   "execution_count": null,
   "metadata": {
    "collapsed": false
   },
   "outputs": [],
   "source": [
    "fig = plt.figure(figsize=(9,3)) # instantiate a new figure object\n",
    "\n",
    "# Add three axes aligned horizontally\n",
    "ax1 = fig.add_subplot(1,3,1)\n",
    "ax2 = fig.add_subplot(1,3,2)\n",
    "ax3 = fig.add_subplot(1,3,3)\n",
    "\n",
    "x = np.arange(0.0, 10.0, 0.1)\n",
    "\n",
    "# Simple plot\n",
    "ax1.plot(x, np.tan(x))\n",
    "\n",
    "# Histogram plot\n",
    "ax2.hist(np.random.randn(1000), bins=100)\n",
    "\n",
    "# Scatter plot, parametric\n",
    "ax3.scatter(np.sin(x), x*x)\n",
    "\n",
    "ax1.set_xlabel(\"Axis 1\")\n",
    "ax2.set_xlabel(\"Axis 2\")\n",
    "ax3.set_xlabel(\"Axis 3\")\n",
    "\n",
    "ax1.set_title(r\"$\\tan(x)$\", fontsize=16)\n",
    "ax2.set_title(\"Random sampling\")\n",
    "ax3.set_title(r\"$(\\sin(x),x^2)$\", fontsize=16)"
   ]
  },
  {
   "cell_type": "markdown",
   "metadata": {},
   "source": [
    "Here, we construct subplots by using the `add_subplot` method. The first two arguments of `add_subplot` indicate the number of rows and columns, respectively. Notice that for axes objects, we use `set_xlabel` and `set_title` instead of `xlabel` and `title`, but otherwise the functions work as one might expect compared to the MATLAB approach. This is generally the case for axes methods. \n",
    "\n",
    "Beyond `plot`, `matplotlib` provides a host of other plotting methods, depending on exactly what your visualization needs. On display here is the `hist` and `scatter` methods. `hist` takes an array and plots the distribution of values of the array in a bar chart. `scatter` is similar to `plot`, but it requires exactly two arrays to generate coordinate pairs.\n",
    "\n",
    "One way to deal with a large number of axes is to think about them as iterable objects. This can _dramatically_ reduce the amount of code requisite to do sophisticated plots. For example:"
   ]
  },
  {
   "cell_type": "code",
   "execution_count": null,
   "metadata": {
    "collapsed": false
   },
   "outputs": [],
   "source": [
    "fig, axes = plt.subplots(3,3, figsize=(10,10), sharex=True, sharey=True)\n",
    "\n",
    "for i in range(3):\n",
    "    for j in range(3):\n",
    "        x = np.random.randn(100)\n",
    "        axes[i, j].hist(x, color='g', alpha=0.5)\n",
    "        axes[i, j].set_title(\"Realization %i,%i\" % (i+1,j+1))\n",
    "\n",
    "plt.subplots_adjust(wspace=0.2,hspace=0.2)"
   ]
  },
  {
   "cell_type": "markdown",
   "metadata": {},
   "source": [
    "Of note, you can specify whether two (or in the above case, _every_) subplots share an x or y-axis. This can be a nice technique to reduce the clutter around a plot. Another function that is useful for figure formatting is `subplots_adjust`, which allows you to specify the spacing between plots and the margins from the borders of the aggregate figure."
   ]
  },
  {
   "cell_type": "markdown",
   "metadata": {},
   "source": [
    "# Plotting functions"
   ]
  },
  {
   "cell_type": "markdown",
   "metadata": {},
   "source": [
    "Here we will use the MATLAB approach just for brevity of code. We have already seen `plot` fairly extensively, so now we will explore other `matplotlib` plotting functions that you might want to explore."
   ]
  },
  {
   "cell_type": "markdown",
   "metadata": {},
   "source": [
    "## `bar` and `barh`"
   ]
  },
  {
   "cell_type": "markdown",
   "metadata": {},
   "source": [
    "The `bar` and `barh` methods allow you to generate bar plots, with the distinction that `bar` orients the rectangles of the plot along the vertical axis while `barh` orients along the horizontal axis. Outside from orientation, both work identically (we will from now on assume `bar`).\n",
    "\n",
    "`bar` takes an array denoting the x-coordinates of the left sides of the bars and an array denoting the heights of the bars. Optionally, you can add a scalar value (or array, for each bar) to denote the width of every bar. As with every plotting function, you can then specify color, transparency (alpha), and the legend label of the bars. For bar plots, you can add additional options, `xerr` and `yerr`, to specify the error bars in the x and y directions for the plot.\n",
    "\n",
    "As a first example, we simply create a bar chart denoting increasing values:"
   ]
  },
  {
   "cell_type": "code",
   "execution_count": null,
   "metadata": {
    "collapsed": false
   },
   "outputs": [],
   "source": [
    "vals = np.arange(0,10,1)\n",
    "\n",
    "plt.bar(vals, vals + 1, 1)"
   ]
  },
  {
   "cell_type": "markdown",
   "metadata": {},
   "source": [
    "Of course, we can make this much more sophisticated. Here's a fun example that demonstrates some of the main features of `bar`."
   ]
  },
  {
   "cell_type": "code",
   "execution_count": null,
   "metadata": {
    "collapsed": false
   },
   "outputs": [],
   "source": [
    "width = 0.2\n",
    "rows = np.arange(0,10, width)\n",
    "\n",
    "plt.figure(figsize=(10,5))\n",
    "\n",
    "data1 = 1.0 - 2.0/(rows +1.0) * np.sin(rows)\n",
    "data2 = 2./(rows + 1.)**2 * np.abs(np.cos(rows))\n",
    "\n",
    "plt.bar(rows, data1, width, color=\"y\", alpha=0.7, \n",
    "        label=\"Perceived Knowledge of C\")\n",
    "plt.bar(rows, data2, width, color=\"b\", alpha=0.7, label=\"Happiness\")\n",
    "plt.legend(loc=\"best\")\n",
    "\n",
    "plt.xticks([0.2,2.0,4.0,7.0,9.0],\n",
    "           (\"None\", \"Pointer syntax\", \"Pointer arithmetic\", \n",
    "            \"Passing pointers\", \n",
    "            \"Function pointers\"), rotation=0)\n",
    "\n",
    "plt.xlabel(\"Material covered in CSC 161\", fontsize=16)\n",
    "plt.yticks([])\n",
    "plt.title(\"C is a frustrating language\", fontsize=20)"
   ]
  },
  {
   "cell_type": "code",
   "execution_count": null,
   "metadata": {
    "collapsed": false
   },
   "outputs": [],
   "source": [
    "x = np.arange(0,10,1)\n",
    "\n",
    "plt.barh(x, np.cos(x), 0.85, align='center', \n",
    "         xerr= 0.05 * np.random.rand(np.size(x)), alpha=0.4) \n",
    "\n",
    "plt.yticks(x[:], (\"This\", \"Is\", \"A\", \"Bar\", \"Plot\", \"With\", \"Custom\", \n",
    "               \"Tags\", \"For\", \"You\", \"To\", \"See\"))"
   ]
  },
  {
   "cell_type": "markdown",
   "metadata": {},
   "source": [
    "## Plotting functions in pandas"
   ]
  },
  {
   "cell_type": "markdown",
   "metadata": {},
   "source": [
    "It's important to know how to build plots manually from data stored in `NumPy`. However, we can also use `Pandas` to produce high-quality `matplotlib` plots from existing `Series` and `DataFrame` objects with considerable ease and flexibility.\n",
    "\n",
    "This section will walk through a variety of options you have at your disposal when building visualizations with `Pandas`, but is by no means exhaustive. For more information, check out the [Pandas Documentation](http://pandas.pydata.org/pandas-docs/stable/)."
   ]
  },
  {
   "cell_type": "markdown",
   "metadata": {},
   "source": [
    "### Line plots"
   ]
  },
  {
   "cell_type": "markdown",
   "metadata": {},
   "source": [
    "Given a `Series` object, one natural approach to plotting is with line plots. This is the default behavior of the method `Series.plot`, displayed below."
   ]
  },
  {
   "cell_type": "code",
   "execution_count": null,
   "metadata": {
    "collapsed": false
   },
   "outputs": [],
   "source": [
    "s = Series(np.random.randn(10).cumsum(), index=np.arange(0, 100, 10))\n",
    "s.plot()"
   ]
  },
  {
   "cell_type": "markdown",
   "metadata": {},
   "source": [
    "This extends naturally to the `DataFrame` object. Since `DataFrame` objects already label the columns of their internal data, it is also easy to produce legends."
   ]
  },
  {
   "cell_type": "code",
   "execution_count": null,
   "metadata": {
    "collapsed": false
   },
   "outputs": [],
   "source": [
    "df = DataFrame(np.random.randn(10, 4).cumsum(0),\n",
    "               columns=['A', 'B', 'C', 'D'],\n",
    "               index=np.arange(0, 100, 10))\n",
    "df.plot()"
   ]
  },
  {
   "cell_type": "markdown",
   "metadata": {},
   "source": [
    "### Bar plots"
   ]
  },
  {
   "cell_type": "markdown",
   "metadata": {},
   "source": [
    "Of course, there are many more types of visualization than line plots. In general, one can specify the type of plot a `Series` or `DataFrame` generates by changing the optional parameter `kind`. \n",
    "\n",
    "Here is an example showcasing the `bar` and `barh` plots we saw earlier. Additionally, we can specify the specific axis we want as the base of the plot. `Pandas` takes care of the formatting as well.\n",
    "\n",
    "Plotting with `Pandas` plays nicely with both the MATLAB-style of generation, as with the prior examples, or with the Object-oriented paradigm, as below."
   ]
  },
  {
   "cell_type": "code",
   "execution_count": null,
   "metadata": {
    "collapsed": false
   },
   "outputs": [],
   "source": [
    "fig, axes = plt.subplots(2, 1)\n",
    "data = Series(np.random.rand(16), index=list('abcdefghijklmnop'))\n",
    "data.plot(kind='bar', ax=axes[0], color='k', alpha=0.7)\n",
    "data.plot(kind='barh', ax=axes[1], color='k', alpha=0.7)"
   ]
  },
  {
   "cell_type": "markdown",
   "metadata": {},
   "source": [
    "Again, `DataFrame` objects have similar functionality. Consider the following `DataFrame`."
   ]
  },
  {
   "cell_type": "code",
   "execution_count": null,
   "metadata": {
    "collapsed": false
   },
   "outputs": [],
   "source": [
    "df = DataFrame(np.random.rand(6, 4),\n",
    "               index=['one', 'two', 'three', 'four', 'five', 'six'],\n",
    "               columns=pd.Index(['A', 'B', 'C', 'D'], name='Genus'))\n",
    "df"
   ]
  },
  {
   "cell_type": "markdown",
   "metadata": {},
   "source": [
    "We can plot the data in a bar graph just as we would for a `Series` object. Notice that the legend by default is not fixed to any particular location on the plot. This is the `\"best\"` parameter choice for legend location. You can hide the legend by specifying `legend=False`."
   ]
  },
  {
   "cell_type": "code",
   "execution_count": null,
   "metadata": {
    "collapsed": false
   },
   "outputs": [],
   "source": [
    "df.plot(kind='bar')"
   ]
  },
  {
   "cell_type": "markdown",
   "metadata": {},
   "source": [
    "Bar plots can also be stacked by using the `stacked` parameter. Notice also that when using `bar` or `barh`, `Pandas` takes care of aligning the data properly to its index label, using the column label for the legend."
   ]
  },
  {
   "cell_type": "code",
   "execution_count": null,
   "metadata": {
    "collapsed": false
   },
   "outputs": [],
   "source": [
    "df.plot(kind='barh', stacked=True, alpha=0.5)"
   ]
  },
  {
   "cell_type": "markdown",
   "metadata": {},
   "source": [
    "Now, Wes Mckinney has a collection of restaurant tip data in `csv` format that you can download [here](). We can load up the file and put it directly into a `DataFrame` object using `read_csv` (more on this next week!)."
   ]
  },
  {
   "cell_type": "code",
   "execution_count": null,
   "metadata": {
    "collapsed": false
   },
   "outputs": [],
   "source": [
    "tips = pd.read_csv('mckinney-files/tips.csv')\n",
    "\n",
    "tips.head() # head specifies to display a reasonable amount of output."
   ]
  },
  {
   "cell_type": "markdown",
   "metadata": {},
   "source": [
    "We want to cross-tabulate between the day of the week and the size of the party. In other words, we want to count how many parties of one were seated on Friday; how many parties of two; etc, for each day of the week we have data (Friday, Saturday, Sunday, and Thursday). To do this we will use `crosstab`.\n",
    "\n",
    "First, let's look at the columns formed by `tips`."
   ]
  },
  {
   "cell_type": "code",
   "execution_count": null,
   "metadata": {
    "collapsed": false
   },
   "outputs": [],
   "source": [
    "tips.columns"
   ]
  },
  {
   "cell_type": "markdown",
   "metadata": {},
   "source": [
    "We can cross-tabulate between the day of the week (Thursday, Friday, Saturday, or Sunday) and the number of guests per party (1-6), using `crosstab`."
   ]
  },
  {
   "cell_type": "code",
   "execution_count": null,
   "metadata": {
    "collapsed": true
   },
   "outputs": [],
   "source": [
    "party_counts = pd.crosstab(tips[\"day\"], tips[\"size\"])"
   ]
  },
  {
   "cell_type": "code",
   "execution_count": null,
   "metadata": {
    "collapsed": false
   },
   "outputs": [],
   "source": [
    "party_counts"
   ]
  },
  {
   "cell_type": "markdown",
   "metadata": {},
   "source": [
    "Now, we can proceed to the analysis. One type of plot would simply show the breakdown of guests given a day of the week."
   ]
  },
  {
   "cell_type": "code",
   "execution_count": null,
   "metadata": {
    "collapsed": false
   },
   "outputs": [],
   "source": [
    "party_counts.plot(kind='barh')"
   ]
  },
  {
   "cell_type": "markdown",
   "metadata": {},
   "source": [
    "Not so enlightening, because there is wide variation in the data. Let's restrict our analysis to parties with a size between 2 and 5 (inclusive)."
   ]
  },
  {
   "cell_type": "code",
   "execution_count": null,
   "metadata": {
    "collapsed": true
   },
   "outputs": [],
   "source": [
    "# Not many 1- and 6-person parties\n",
    "party_counts = party_counts.ix[:, 2:5]"
   ]
  },
  {
   "cell_type": "markdown",
   "metadata": {},
   "source": [
    "We can \"normalize\" the daily data by dividing the values of a particular entry by the sum of the values along that row. Notice that we use `astype(float)` to make sure that no integer division problems are encountered, and we specify `axis=0` to say that we are normalizing along the day, not the party."
   ]
  },
  {
   "cell_type": "code",
   "execution_count": null,
   "metadata": {
    "collapsed": false
   },
   "outputs": [],
   "source": [
    "# Normalize to sum to 1\n",
    "party_pcts = party_counts.div(party_counts.sum(1).astype(float), axis=0)\n",
    "party_pcts"
   ]
  },
  {
   "cell_type": "markdown",
   "metadata": {},
   "source": [
    "Given this new percentage data, it might make more sense to stack the bars so we can see how the distribution changes from day to day."
   ]
  },
  {
   "cell_type": "code",
   "execution_count": null,
   "metadata": {
    "collapsed": false
   },
   "outputs": [],
   "source": [
    "party_pcts.plot(kind='bar', stacked=True)\n",
    "\n",
    "plt.legend(loc='center left', bbox_to_anchor=(1.0, 0.5))"
   ]
  },
  {
   "cell_type": "markdown",
   "metadata": {},
   "source": [
    "Parties seem to get much larger on weekends, while couples dominate during weekdays. Not bad for a short analysis!"
   ]
  },
  {
   "cell_type": "markdown",
   "metadata": {},
   "source": [
    "### Histograms and density plots"
   ]
  },
  {
   "cell_type": "markdown",
   "metadata": {},
   "source": [
    "Of course, one might also ask what the distribution of tip percentages a server can expect to see at a given night. `Pandas` helps us answer this with the easy integration of histograms and density plots."
   ]
  },
  {
   "cell_type": "markdown",
   "metadata": {},
   "source": [
    "First, let's calculate tip percentages. Luckily, the tip data and the total bill data are already given, so adding a new column is simple."
   ]
  },
  {
   "cell_type": "code",
   "execution_count": null,
   "metadata": {
    "collapsed": false
   },
   "outputs": [],
   "source": [
    "plt.figure()\n",
    "\n",
    "tips['tip_pct'] = tips['tip'] / tips['total_bill']\n",
    "tips['tip_pct'].hist(bins=50)\n",
    "\n",
    "plt.title(\"Histogram of tip percentages\")"
   ]
  },
  {
   "cell_type": "markdown",
   "metadata": {},
   "source": [
    "Looks like the average is right about 15%. Not too shocking. Perhaps instead of a histogram of bins, you want to show a smooth distribution of density. To do so, we can simply choose the `kde` style of plot."
   ]
  },
  {
   "cell_type": "code",
   "execution_count": null,
   "metadata": {
    "collapsed": false
   },
   "outputs": [],
   "source": [
    "tips['tip_pct'].plot(kind='kde')"
   ]
  },
  {
   "cell_type": "markdown",
   "metadata": {},
   "source": [
    "#### Quiz:\n",
    "Are the above two plots `Series` plots or `DataFrame` plots?"
   ]
  },
  {
   "cell_type": "markdown",
   "metadata": {},
   "source": [
    "You can actually plot histograms and density plots together. Consider the following random data samples."
   ]
  },
  {
   "cell_type": "code",
   "execution_count": null,
   "metadata": {
    "collapsed": true
   },
   "outputs": [],
   "source": [
    "comp1 = np.random.normal(0, 1, size=200)  # N(0, 1)\n",
    "comp2 = np.random.normal(10, 2, size=200)  # N(10, 4)"
   ]
  },
  {
   "cell_type": "markdown",
   "metadata": {},
   "source": [
    "By having one cell plot both a histogram and a kernel density estimate plot, we can overlay the two of them together to form a solid understanding of the distribution of data in the set."
   ]
  },
  {
   "cell_type": "code",
   "execution_count": null,
   "metadata": {
    "collapsed": false
   },
   "outputs": [],
   "source": [
    "values = Series(np.concatenate([comp1, comp2]))\n",
    "values.hist(bins=100, alpha=0.3, color='g', normed=True)\n",
    "values.plot(kind='kde', style='k--')"
   ]
  },
  {
   "cell_type": "markdown",
   "metadata": {},
   "source": [
    "This allows us to provide a considerable amount of information compactly into one figure. We can also do it without losing the essence of the visualization."
   ]
  },
  {
   "cell_type": "markdown",
   "metadata": {},
   "source": [
    "### Scatter plots"
   ]
  },
  {
   "cell_type": "markdown",
   "metadata": {},
   "source": [
    "When infering the relationship between two series of data, the scatter plot can provide significant assistance to visualize correlation. Consider the following economic data, which you can download as a `csv` file from [here]()."
   ]
  },
  {
   "cell_type": "code",
   "execution_count": null,
   "metadata": {
    "collapsed": false
   },
   "outputs": [],
   "source": [
    "macro = pd.read_csv('mckinney-files/macrodata.csv')\n",
    "macro.set_index(['year','quarter']).tail()"
   ]
  },
  {
   "cell_type": "markdown",
   "metadata": {},
   "source": [
    "This is a macroeconomic dataset containing the following metrics:\n",
    "* real gross domestic product\n",
    "* real aggregate consumption\n",
    "* real investment\n",
    "* real government investment\n",
    "* real disposable income\n",
    "* consumer prices\n",
    "* M1 money stock\n",
    "* Treasury bill 1-month yields\n",
    "* unemployment rate\n",
    "* population\n",
    "* inflation\n",
    "* real interest rates\n",
    "\n",
    "It's a fair bet that this is more information than we want to process at the moment, so we can define a new `DataFrame` considering only the essence of the data we need in this example.\n",
    "\n",
    "Wes McKinney then takes the data and applies transformations to make the visualization easier."
   ]
  },
  {
   "cell_type": "code",
   "execution_count": null,
   "metadata": {
    "collapsed": false
   },
   "outputs": [],
   "source": [
    "data = macro[['cpi', 'm1', 'tbilrate', 'unemp']]\n",
    "trans_data = np.log(data).diff().dropna()\n",
    "trans_data[-5:]"
   ]
  },
  {
   "cell_type": "markdown",
   "metadata": {},
   "source": [
    "How does the change in the size of M1 correspond to changes in the unemployment rate? Let's find out!"
   ]
  },
  {
   "cell_type": "code",
   "execution_count": null,
   "metadata": {
    "collapsed": false
   },
   "outputs": [],
   "source": [
    "plt.scatter(trans_data['m1'], trans_data['unemp'], alpha=0.5)\n",
    "plt.xlabel(\"Change in $\\log M_1$\")\n",
    "plt.ylabel(\"Change in unemployment\")\n",
    "plt.title('Changes in log %s vs. log %s' % ('m1', 'unemp'))"
   ]
  },
  {
   "cell_type": "markdown",
   "metadata": {},
   "source": [
    "It looks like increases in the money supply may have a positive effect on the unemployment rate. Although, it is difficult to say exactly how (we might need a model to infer anything more). Certainly, unemployment seems to be decreasing when the money supply shrinks, according to the data."
   ]
  },
  {
   "cell_type": "markdown",
   "metadata": {},
   "source": [
    "Suppose you have a new dataset and you have no idea how the various series are related. One quick approach to get a feel for the relationships, which you can later expand upon in a more thorough analysis, is the scatter matrix. Given $n$ series of data, `scatter_matrix` produces an $n\\times n$ matrix of scatter plots corresponding to pairs of data."
   ]
  },
  {
   "cell_type": "markdown",
   "metadata": {},
   "source": [
    "The question is what to do on the main diagonal; a scatter plot of a data series with itself is quite uninteresting. Instead, the default behavior is to produce a histogram of the data series, but you can specify this to be a `kde` plot using the `diag` optional parameter."
   ]
  },
  {
   "cell_type": "code",
   "execution_count": null,
   "metadata": {
    "collapsed": false
   },
   "outputs": [],
   "source": [
    "pd.scatter_matrix(trans_data, diagonal='kde', color='k')"
   ]
  },
  {
   "cell_type": "markdown",
   "metadata": {},
   "source": [
    "#Image Processing"
   ]
  },
  {
   "cell_type": "markdown",
   "metadata": {},
   "source": [
    "In the module we will start an application of `scipy` and `numpy` in order to manipulate images. For further resources we are using ideas and from `http://scipy-lectures.github.io/advanced/image_processing/`."
   ]
  },
  {
   "cell_type": "markdown",
   "metadata": {},
   "source": [
    "##Displaying Files"
   ]
  },
  {
   "cell_type": "markdown",
   "metadata": {},
   "source": [
    "First we need to import the `scipy` and `numpy` into our file. After doing this we want to write an array into a file."
   ]
  },
  {
   "cell_type": "code",
   "execution_count": null,
   "metadata": {
    "collapsed": true
   },
   "outputs": [],
   "source": [
    "%matplotlib inline\n",
    "from scipy import misc"
   ]
  },
  {
   "cell_type": "code",
   "execution_count": null,
   "metadata": {
    "collapsed": true
   },
   "outputs": [],
   "source": [
    "l = misc.lena()\n",
    "misc.imsave('lena.png', l) # uses the Image module (PIL)"
   ]
  },
  {
   "cell_type": "code",
   "execution_count": null,
   "metadata": {
    "collapsed": false
   },
   "outputs": [],
   "source": [
    "import matplotlib.pyplot as plt\n",
    "plt.imshow(l)"
   ]
  },
  {
   "cell_type": "markdown",
   "metadata": {},
   "source": [
    "We can also change the color of our image to reflect the original greyscale."
   ]
  },
  {
   "cell_type": "code",
   "execution_count": null,
   "metadata": {
    "collapsed": false
   },
   "outputs": [],
   "source": [
    "plt.imshow(l, cmap=plt.cm.gray)"
   ]
  },
  {
   "cell_type": "markdown",
   "metadata": {},
   "source": [
    "We can increase the contrast by changing the mininimum and maximum values."
   ]
  },
  {
   "cell_type": "code",
   "execution_count": null,
   "metadata": {
    "collapsed": false
   },
   "outputs": [],
   "source": [
    "plt.imshow(l, cmap=plt.cm.gray, vmin=100, vmax=200)\n",
    "plt.axis('off') # Remove axes and ticks"
   ]
  },
  {
   "cell_type": "markdown",
   "metadata": {},
   "source": [
    "An interesting image processing technique is drawing contour lines. We can do this using `plt.contour`."
   ]
  },
  {
   "cell_type": "code",
   "execution_count": null,
   "metadata": {
    "collapsed": false
   },
   "outputs": [],
   "source": [
    "plt.imshow(l, cmap=plt.cm.gray,vmin=100, vmax=200)\n",
    "plt.contour(l, [60, 150])\n",
    "plt.axis('off')"
   ]
  },
  {
   "cell_type": "markdown",
   "metadata": {},
   "source": [
    "We can inspect individual elements for intensity variation using `interpolation='nearest'`."
   ]
  },
  {
   "cell_type": "code",
   "execution_count": null,
   "metadata": {
    "collapsed": false
   },
   "outputs": [],
   "source": [
    "plt.imshow(l[200:220, 200:220], cmap=plt.cm.gray)\n",
    "plt.imshow(l[200:220, 200:220], cmap=plt.cm.gray, \n",
    "           interpolation='nearest')"
   ]
  },
  {
   "cell_type": "markdown",
   "metadata": {},
   "source": [
    "#Basic Image Manipulations"
   ]
  },
  {
   "cell_type": "markdown",
   "metadata": {},
   "source": [
    "Images are arrays. Consequently, we can use array manipulations that we used from `numpy`."
   ]
  },
  {
   "cell_type": "code",
   "execution_count": null,
   "metadata": {
    "collapsed": true
   },
   "outputs": [],
   "source": [
    "import scipy\n",
    "import numpy as np"
   ]
  },
  {
   "cell_type": "code",
   "execution_count": null,
   "metadata": {
    "collapsed": false
   },
   "outputs": [],
   "source": [
    "lena = scipy.misc.lena()\n",
    "lena[10:13, 20:23]\n",
    "lena[100:120] = 255\n",
    "\n",
    "lx, ly = lena.shape\n",
    "X, Y = np.ogrid[0:lx, 0:ly]\n",
    "mask = (X - lx/2)**2 + (Y - ly/2)**2 > lx*ly/4\n",
    "lena[mask] = 0\n",
    "lena[range(400), range(400)] = 255\n",
    "\n",
    "plt.figure(figsize=(3, 3))\n",
    "plt.axes([0, 0, 1, 1])\n",
    "plt.imshow(lena, cmap=plt.cm.gray)\n",
    "plt.axis('off')"
   ]
  },
  {
   "cell_type": "markdown",
   "metadata": {},
   "source": [
    "#Geometric Transformations"
   ]
  },
  {
   "cell_type": "markdown",
   "metadata": {},
   "source": [
    "We can easily rotate and flip the image using the `numpy` library."
   ]
  },
  {
   "cell_type": "code",
   "execution_count": null,
   "metadata": {
    "collapsed": false
   },
   "outputs": [],
   "source": [
    "from scipy import ndimage\n",
    "\n",
    "lena = scipy.misc.lena()\n",
    "lx, ly = lena.shape\n",
    "\n",
    "# Cropping\n",
    "\n",
    "crop_lena = lena[lx/4:-lx/4, ly/4:-ly/4]\n",
    "# up <-> down flip\n",
    "flip_ud_lena = np.flipud(lena)\n",
    "# rotation\n",
    "rotate_lena = ndimage.rotate(lena, 45)\n",
    "rotate_lena_noreshape = ndimage.rotate(lena, 45, reshape=False)\n",
    "\n",
    "plt.figure(figsize=(12.5, 2.5))\n",
    "\n",
    "\n",
    "plt.subplot(151)\n",
    "plt.imshow(lena, cmap=plt.cm.gray)\n",
    "plt.axis('off')\n",
    "plt.subplot(152)\n",
    "plt.imshow(crop_lena, cmap=plt.cm.gray)\n",
    "plt.axis('off')\n",
    "plt.subplot(153)\n",
    "plt.imshow(flip_ud_lena, cmap=plt.cm.gray)\n",
    "plt.axis('off')\n",
    "plt.subplot(154)\n",
    "plt.imshow(rotate_lena, cmap=plt.cm.gray)\n",
    "plt.axis('off')\n",
    "plt.subplot(155)\n",
    "plt.imshow(rotate_lena_noreshape, cmap=plt.cm.gray)\n",
    "plt.axis('off')\n",
    "\n",
    "plt.subplots_adjust(wspace=0.02, hspace=0.3, top=1, bottom=0.1, left=0,\n",
    "                    right=1)"
   ]
  },
  {
   "cell_type": "markdown",
   "metadata": {},
   "source": [
    "#Image Filtering"
   ]
  },
  {
   "cell_type": "markdown",
   "metadata": {},
   "source": [
    "We can filter images by replacing the value of the pixels by a function of adjacent pixels. In the example below we use two different filters. The Gaussian filter sets the value of a pixel to the weighted average of the value of neighboring pixels, where nearby pixels have greater weights. The uniform filter is simply the average value of the pixels a set distance away."
   ]
  },
  {
   "cell_type": "code",
   "execution_count": null,
   "metadata": {
    "collapsed": false
   },
   "outputs": [],
   "source": [
    "lena = scipy.misc.lena()\n",
    "blurred_lena = ndimage.gaussian_filter(lena, sigma=3)\n",
    "very_blurred = ndimage.gaussian_filter(lena, sigma=5)\n",
    "local_mean = ndimage.uniform_filter(lena, size=11)\n",
    "\n",
    "\n",
    "plt.figure(figsize=(9, 3))\n",
    "plt.subplot(131)\n",
    "plt.imshow(blurred_lena, cmap=plt.cm.gray)\n",
    "plt.axis('off')\n",
    "plt.subplot(132)\n",
    "plt.imshow(very_blurred, cmap=plt.cm.gray)\n",
    "plt.axis('off')\n",
    "plt.subplot(133)\n",
    "plt.imshow(local_mean, cmap=plt.cm.gray)\n",
    "plt.axis('off')\n",
    "\n",
    "plt.subplots_adjust(wspace=0, hspace=0., top=0.99, bottom=0.01,\n",
    "                    left=0.01, right=0.99)"
   ]
  },
  {
   "cell_type": "markdown",
   "metadata": {},
   "source": [
    "#Image Sharpening"
   ]
  },
  {
   "cell_type": "markdown",
   "metadata": {},
   "source": [
    "We can also sharpen a blurred image. The following shows the original image followed by a blurred image and a resharpened image."
   ]
  },
  {
   "cell_type": "code",
   "execution_count": null,
   "metadata": {
    "collapsed": false
   },
   "outputs": [],
   "source": [
    "l = scipy.misc.lena()\n",
    "blurred_l = ndimage.gaussian_filter(l, 3)\n",
    "\n",
    "filter_blurred_l = ndimage.gaussian_filter(blurred_l, 1)\n",
    "\n",
    "alpha = 30\n",
    "sharpened = blurred_l + alpha * (blurred_l - filter_blurred_l)\n",
    "\n",
    "plt.figure(figsize=(12, 4))\n",
    "\n",
    "plt.subplot(131)\n",
    "plt.imshow(l, cmap=plt.cm.gray)\n",
    "plt.axis('off')\n",
    "plt.subplot(132)\n",
    "plt.imshow(blurred_l, cmap=plt.cm.gray)\n",
    "plt.axis('off')\n",
    "plt.subplot(133)\n",
    "plt.imshow(sharpened, cmap=plt.cm.gray)\n",
    "plt.axis('off')"
   ]
  },
  {
   "cell_type": "markdown",
   "metadata": {},
   "source": [
    "#Denoising"
   ]
  },
  {
   "cell_type": "markdown",
   "metadata": {},
   "source": [
    "Applying the filters we learned to help us blur and sharpen images allow us to denoise an image. However, these filters are not without problems. The Gaussian filter smoothes out the noise, but it also smoothes out the edges of the picture. A median picture smoothes the noise, but it preserves the edges better than the Gaussian filter."
   ]
  },
  {
   "cell_type": "code",
   "execution_count": null,
   "metadata": {
    "collapsed": false
   },
   "outputs": [],
   "source": [
    "l = scipy.misc.lena()\n",
    "l = l[230:290, 220:320]\n",
    "\n",
    "noisy = l + 0.4*l.std()*np.random.random(l.shape)\n",
    "\n",
    "gauss_denoised = ndimage.gaussian_filter(noisy, 2)\n",
    "med_denoised = ndimage.median_filter(noisy, 3)\n",
    "\n",
    "\n",
    "plt.figure(figsize=(12,2.8))\n",
    "\n",
    "plt.subplot(131)\n",
    "plt.imshow(noisy, cmap=plt.cm.gray, vmin=40, vmax=220)\n",
    "plt.axis('off')\n",
    "plt.title('noisy', fontsize=20)\n",
    "plt.subplot(132)\n",
    "plt.imshow(gauss_denoised, cmap=plt.cm.gray, vmin=40, vmax=220)\n",
    "plt.axis('off')\n",
    "plt.title('Gaussian filter', fontsize=20)\n",
    "plt.subplot(133)\n",
    "plt.imshow(med_denoised, cmap=plt.cm.gray, vmin=40, vmax=220)\n",
    "plt.axis('off')\n",
    "plt.title('Median filter', fontsize=20)\n",
    "\n",
    "plt.subplots_adjust(wspace=0.02, hspace=0.02, top=0.9, bottom=0, left=0,\n",
    "                    right=1)"
   ]
  },
  {
   "cell_type": "markdown",
   "metadata": {},
   "source": [
    "The median filter is better when working with straight edges (low-curviture images)."
   ]
  },
  {
   "cell_type": "code",
   "execution_count": null,
   "metadata": {
    "collapsed": false
   },
   "outputs": [],
   "source": [
    "im = np.zeros((20, 20))\n",
    "im[5:-5, 5:-5] = 1\n",
    "im = ndimage.distance_transform_bf(im)\n",
    "im_noise = im + 0.2*np.random.randn(*im.shape)\n",
    "\n",
    "im_med = ndimage.median_filter(im_noise, 3)\n",
    "\n",
    "plt.figure(figsize=(12, 5))\n",
    "\n",
    "plt.subplot(141)\n",
    "plt.imshow(im, interpolation='nearest')\n",
    "plt.axis('off')\n",
    "plt.title('Original image', fontsize=20)\n",
    "plt.subplot(142)\n",
    "plt.imshow(im_noise, interpolation='nearest', vmin=0, vmax=5)\n",
    "plt.axis('off')\n",
    "plt.title('Noisy image', fontsize=20)\n",
    "plt.subplot(143)\n",
    "plt.imshow(im_med, interpolation='nearest', vmin=0, vmax=5)\n",
    "plt.axis('off')\n",
    "plt.title('Median filter', fontsize=20)\n",
    "plt.subplot(144)\n",
    "plt.imshow(np.abs(im - im_med), cmap=plt.cm.hot, vmin=0, vmax=5, interpolation='nearest')\n",
    "plt.axis('off')\n",
    "plt.title('Error', fontsize=20)\n",
    "\n",
    "\n",
    "plt.subplots_adjust(wspace=0.02, hspace=0.02, top=0.9, bottom=0, left=0, right=1)"
   ]
  },
  {
   "cell_type": "markdown",
   "metadata": {},
   "source": [
    "##Try It!\n",
    "\n",
    "1. Try adding noise to the image `Lena`. Once you have a noisy image try using a median and Gaussian filter to smooth the image.\n",
    "2. Create an error chart to measure the error between the two techniques.\n",
    "3. Try using a new filter like `ndimage.maximum_filter`, and `ndimage.percentile_filter` on the image of concentric squares.\n",
    "4. Try using a non-rank filter like `scipy.signal.wiener`."
   ]
  }
 ],
 "metadata": {
  "kernelspec": {
   "display_name": "Python 2",
   "language": "python",
   "name": "python2"
  },
  "language_info": {
   "codemirror_mode": {
    "name": "ipython",
    "version": 2
   },
   "file_extension": ".py",
   "mimetype": "text/x-python",
   "name": "python",
   "nbconvert_exporter": "python",
   "pygments_lexer": "ipython2",
   "version": "2.7.9"
  }
 },
 "nbformat": 4,
 "nbformat_minor": 0
}
