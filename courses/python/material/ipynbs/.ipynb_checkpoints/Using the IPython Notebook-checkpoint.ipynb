{
 "cells": [
  {
   "cell_type": "markdown",
   "metadata": {},
   "source": [
    "# Warm-up exercises\n",
    "\n",
    "1. Write a function, `pos_neg(a, b, is_negative)`, which should return `True` if one of `a` or `b` is negative. But if `is_negative` is `True`, return true only if both `a` and `b` are negative.\n",
    "\n",
    "2. Write a function, `extra_end(str)`, that takes a string and returns a new string formed by taking the last two characters of `str` and repeats it three times. _Bonus_: handle cases in which `str` has length less than 2.\n",
    "\n",
    "3. Write a function, `rotate_left3(lst)`, that takes a list of 3 integers and returns the elements \"rotated left\", so `[1, 2, 3]` yields `[2, 3, 1]`."
   ]
  },
  {
   "cell_type": "code",
   "execution_count": null,
   "metadata": {
    "collapsed": true
   },
   "outputs": [],
   "source": [
    "def pos_neg(a, b, is_negative):\n",
    "    if is_negative:\n",
    "        return a < 0 and b < 0\n",
    "    else:\n",
    "        return a < 0 or b < 0\n",
    "    \n",
    "def extra_end(str):\n",
    "    return str[-2:] * 3\n",
    "\n",
    "def rotate_left3(lst):\n",
    "    return lst[1:] + [lst[0]]"
   ]
  },
  {
   "cell_type": "code",
   "execution_count": null,
   "metadata": {
    "collapsed": false
   },
   "outputs": [],
   "source": [
    "print pos_neg(1, -1, False)\n",
    "print extra_end(\"warm\")\n",
    "print rotate_left3([5, 3, 2])"
   ]
  },
  {
   "cell_type": "markdown",
   "metadata": {},
   "source": [
    "# About `IPython`\n",
    "\n",
    "From _Python for Data Analysis_:\n",
    "\n",
    "> The `IPython` project began in 2001 as Fernando Perez's side project to make a better interactive `Python` interpreter. In the subsequent 11 years it has grown into what's widely considered one of the most important tools in the modern scientific `Python` computing stack. While it does not provide any computational or data analytical tools by itself, `IPython` is designed from the ground up to maximize your productivity in both interactive computing and software development. It encourages an _execute-explore_ workflow instead of the typical _edit-compile-run_ workflow of many other programming languages.\n",
    "\n",
    "The `IPython Notebook` uses an input-output programming paradigm centered around the _cell_. Excecuting a cell saves all of the data into the notebook, so you can use it later. But, you can execute a cell, write more code, and come back to the same cell to make changes, which gives the notebook an incredible amount of versatility.\n",
    "\n",
    "Each notebook uses an execution kernel to keep track of all of the data. If you run into a challenge, say, an accidental infinite loop, you can interrupt and restart the kernel from the options. Restarting the kernel drops all of the data saved to the main memory stack, so you need to re-execute all of your cells."
   ]
  },
  {
   "cell_type": "markdown",
   "metadata": {},
   "source": [
    "# Key features of `IPython`\n",
    "\n",
    "Users of _Mathematica_ may feel familiar with the overall layout of the `IPython Notebook`, but there are some important differences (and advantages) of using the Notebook. The `IPython Notebook` is (lovingly, but jokingly) referred to as the \"poor person's _Mathematica_\", which is unfair to both `IPython` and _Mathematica_. The Notebook serves a different purpose from Wolfram's product, and it does so exceptionally well."
   ]
  },
  {
   "cell_type": "markdown",
   "metadata": {},
   "source": [
    "## Tab completion\n",
    "\n",
    "From _Python for Data Analysis_:\n",
    "\n",
    "One of the major improvements over the standard `Python` shell is _tab completion_, a feature common to most interactive data analysis environments. While entering expressions in the shell, pressing **`<Tab>`** will search the namespace for any variables (objects, functions, etc.) matching the characters you have typed so far:\n",
    "\n",
    "```Python\n",
    "In [1]: an_apple = 27\n",
    "\n",
    "In [2]: an_example = 42\n",
    "\n",
    "In [3]: an<Tab>\n",
    "an_apple    and    an_example    any\n",
    "```\n",
    "\n",
    "In this example, not that `IPython` displayed both the two variables defined as well as the `Python` keyword `and` and built-in function `any`. Naturally, you can also complete methods and attributes on any object after typing a period:"
   ]
  },
  {
   "cell_type": "code",
   "execution_count": null,
   "metadata": {
    "collapsed": false
   },
   "outputs": [],
   "source": [
    "b = [1, 2, 3]"
   ]
  },
  {
   "cell_type": "markdown",
   "metadata": {},
   "source": [
    "```Python\n",
    "In [2]: b.<Tab>\n",
    "b.append    b.extend    b.insert    b.remove    b.sort\n",
    "b.count     b.index     b.pop       b.reverse\n",
    "```"
   ]
  },
  {
   "cell_type": "markdown",
   "metadata": {},
   "source": [
    "Tab completion works in many contexts outside of searching the interactive namespace and completing object or module attributes. When typing anything that looks like a file path (even in a `Python` string), pressing **`<Tab>`** will complete anything on your computer's file system matching what you've typed. Combined with the `%run` command (see later section), this functionality will undoubtedly save you many keystrokes.\n",
    "\n",
    "Another area where tab completion saves time is in the completion of function keyword argument (arguments that include the `=` sign)."
   ]
  },
  {
   "cell_type": "markdown",
   "metadata": {},
   "source": [
    "## Introspection\n",
    "\n",
    "Closing a question mark (`?`) before or after a variable will display some general information about the object:"
   ]
  },
  {
   "cell_type": "code",
   "execution_count": null,
   "metadata": {
    "collapsed": false
   },
   "outputs": [],
   "source": [
    "b?"
   ]
  },
  {
   "cell_type": "markdown",
   "metadata": {},
   "source": [
    "```\n",
    "Type:        list\n",
    "String form: [1, 2, 3]\n",
    "Length:      3\n",
    "Docstring:\n",
    "list() -> new empty list\n",
    "list(iterable) -> new list initialized from iterable's items\n",
    "```"
   ]
  },
  {
   "cell_type": "markdown",
   "metadata": {},
   "source": [
    "This is referred to as _object introspection_. If the object is a function or instance method, the docstring, if defined, will also be shown. Suppose we'd written the following functions:"
   ]
  },
  {
   "cell_type": "code",
   "execution_count": null,
   "metadata": {
    "collapsed": false
   },
   "outputs": [],
   "source": [
    "def add_numbers(a, b):\n",
    "    \"\"\"\n",
    "    Add two numbers together\n",
    "    \n",
    "    Returns\n",
    "    -------\n",
    "    the_sum : type of arguments\n",
    "    \"\"\"\n",
    "    return a + b\n"
   ]
  },
  {
   "cell_type": "markdown",
   "metadata": {},
   "source": [
    "Then using `?` shows us the docstring:"
   ]
  },
  {
   "cell_type": "code",
   "execution_count": null,
   "metadata": {
    "collapsed": false
   },
   "outputs": [],
   "source": [
    "add_numbers?"
   ]
  },
  {
   "cell_type": "markdown",
   "metadata": {},
   "source": [
    "```\n",
    "Type:        function\n",
    "String form: <function add_numbers at 0x7facfc177488>\n",
    "File:        /home/alethiometryst/mathlan/public_html/courses/python/course-material/ipynbs/<ipython-input-11-5b88597b2522>\n",
    "Definition:  add_numbers(a, b)\n",
    "Docstring:\n",
    "Add two numbers together\n",
    "\n",
    "Returns\n",
    "-------\n",
    "the_sum : type of arguments\n",
    "```"
   ]
  },
  {
   "cell_type": "markdown",
   "metadata": {},
   "source": [
    "Using `??` will also show the function's source code if possible:"
   ]
  },
  {
   "cell_type": "code",
   "execution_count": null,
   "metadata": {
    "collapsed": false
   },
   "outputs": [],
   "source": [
    "add_numbers??"
   ]
  },
  {
   "cell_type": "markdown",
   "metadata": {},
   "source": [
    "```\n",
    "Type:        function\n",
    "String form: <function add_numbers at 0x7facfc177488>\n",
    "File:        /home/alethiometryst/mathlan/public_html/courses/python/course-material/ipynbs/<ipython-input-11-5b88597b2522>\n",
    "Definition:  add_numbers(a, b)\n",
    "Source:\n",
    "def add_numbers(a, b):\n",
    "    \"\"\"\n",
    "    Add two numbers together\n",
    "    \n",
    "    Returns\n",
    "    -------\n",
    "    the_sum : type of arguments\n",
    "    \"\"\"\n",
    "    return a + b\n",
    "```"
   ]
  },
  {
   "cell_type": "markdown",
   "metadata": {},
   "source": [
    "`?` has a final usage, which is for searching the `IPython` namespace in a manner similar to the standard `UNIX` or Windows command line. A number of characters combined with the wildcard (\\*) will show all names matching the wildcard expression. For example, we could get a list of all functions in the top level `NumPy` namespace containing `load`:"
   ]
  },
  {
   "cell_type": "code",
   "execution_count": null,
   "metadata": {
    "collapsed": false
   },
   "outputs": [],
   "source": [
    "import numpy as np\n",
    "np.*load*?"
   ]
  },
  {
   "cell_type": "markdown",
   "metadata": {},
   "source": [
    "```\n",
    "np.load\n",
    "np.loads\n",
    "np.loadtxt\n",
    "np.pkgload\n",
    "```"
   ]
  },
  {
   "cell_type": "markdown",
   "metadata": {},
   "source": [
    "## The `%run` Command\n",
    "\n",
    "Any file can be run as a `Python` program inside the environment of your `IPython` session using the `%run` command. "
   ]
  },
  {
   "cell_type": "markdown",
   "metadata": {},
   "source": [
    "## Keyboard Shortcuts\n",
    "\n",
    "`IPython` has many keyboard shortcuts for navigating the prompt (which will be familiar to users of the Emacs text editor or the `UNIX` bash shell). Here are the most commonly used elements:\n",
    "\n",
    "### Command Mode (press `Esc` to enable)\n",
    "\n",
    "| Command | Description | Command | Description |\n",
    "|---------|-------------|---------|-------------|\n",
    "| `Enter` | edit mode| `Ctrl-j` | move cell down |\n",
    "| `Shift-Enter` | run cell, select below | `a` | insert cell above |\n",
    "| `Ctrl-Enter` | run cell | `b` | insert cell below |\n",
    "| `Alt-Enter` | run cell, insert below | `x` | cut cell |\n",
    "| `y` | to code | `c` | copy cell |\n",
    "| `m` | to markdown | `Shift-v` | paste cell above |\n",
    "| `r` | to raw | `v` | paste cell below |\n",
    "| `1` | to heading 1 | `d` | delete cell (press twice) |\n",
    "| `2` | to heading 2 | `Shift-m` | merge cell below |\n",
    "| `3` | to heading 3 | `s` | save notebook |\n",
    "| `4` | to heading 4 | `Ctrl-s` | save notebook |\n",
    "| `5` | to heading 5 | `l` | toggle line numbers |\n",
    "| `6` | to heading 6 | `o` | toggle output |\n",
    "| `Up` | select previous cell | `Shift-o` | toggle output scrolling |\n",
    "| `Down` | select next cell | `q` | close pager |\n",
    "| `k` | select previous cell | `h` | keyboard shortcuts |\n",
    "| `j` | select next cell | `i` | interrupt kernel (press twice) |\n",
    "| `Ctrl-k` | move cell up | `0` | restart kernel (press twice) |\n",
    "\n",
    "### Edit Mode (press `Enter` to enable)\n",
    "\n",
    "| Command | Description | Command | Description |\n",
    "|---------|-------------|---------|-------------|\n",
    "| `Tab` | code completion or indent | `Ctrl-Down` | go to cell end |\n",
    "| `Shift-Tab` | tooltip | `Ctrl-Left`| go one word left |\n",
    "| `Ctrl-]` | indent | `Ctrl-Right` | go one word right |\n",
    "| `Ctrl-[` | dedent | `Ctrl-Backspace` | del word before |\n",
    "| `Ctrl-a` | select all | `Ctrl-Delete` | del word after |\n",
    "| `Ctrl-z` | undo | `Esc` | command mode |\n",
    "| `Ctrl-Shift-z` | redo | `Ctrl-m` | command mode |\n",
    "| `Ctrl-y` | redo | `Shift-Enter` | run cell, select below |\n",
    "| `Ctrl-Home` | go to cell start | `Ctrl-Enter` | run cell, select below |\n",
    "| `Ctrl-Up` | go to cell start | `Alt-Enter` | run cell, insert below |\n",
    "| `Ctrl-End` | go to cell end | `Ctrl-Shift--`| split cell |\n",
    "| `Ctrl-s` | save notebook |"
   ]
  },
  {
   "cell_type": "markdown",
   "metadata": {},
   "source": [
    "## Exception and Tracebacks\n",
    "\n",
    "If an exception is raised while executing any statement, `IPython` will by default print a full call stack trace (traceback) with a few lines of context around the position at each point in the stack."
   ]
  },
  {
   "cell_type": "code",
   "execution_count": null,
   "metadata": {
    "collapsed": false
   },
   "outputs": [],
   "source": [
    "def func(a):\n",
    "    return a + 2\n",
    "        \n",
    "func(3, 4)"
   ]
  },
  {
   "cell_type": "markdown",
   "metadata": {},
   "source": [
    "## Magic Commands\n",
    "\n",
    "`IPython` has many special commands, known as \"magic\" commands, which are designed to facilitate common tasks and enable you to easily control the behavior of the `IPython` system. A magic command is any command prefixed by the percent symbol `%`.\n",
    "\n",
    "Magic commands can be viewed as command line programs to be run within the `IPython` system. Many of them have additional \"command line\" options, which can all be viewed (as you might expect) using `?`.\n",
    "\n",
    "Magic functions can be used by default without the percent sign, as long as no variable is defined with the same name as the magic function. This feature is called _automagic_ and can be enabled or disabled using `%automatic`.\n",
    "\n",
    "Since `IPython`'s documentation is easily accessible from within the system, I encourage you to explore all of the special commands available by typing `%quickref` or `%magic`. Here are a few more of the most critical ones for being productive in interactive computing and `Python` development in `IPython`.\n",
    "\n",
    "|Command | Description | \n",
    "|--------|-------------|\n",
    "| `%quickref` | Display the `IPython` Quick Reference Card |\n",
    "| `%magic` | Display detailed documentation for all of the available magic commands |\n",
    "| `%debug` | Enter the interactive debugger at the bottom of the last exception traceback |\n",
    "| `%hist` | Print command input (and optionally output) history |\n",
    "| `%pdb` | Automatically enter debugger after any exception |\n",
    "| `%paste` | Execute pre-formatted `Python` code from clipboard |\n",
    "| `%cpaste` | Open a special prompt for manually pasting `Python` code to be executed |\n",
    "| `%reset` | Delete all variables / names defined in interactive namespace |\n",
    "| `%page OBJECT` | Pretty print the object and display it through a pager |\n",
    "| `%run script.py` | Run a `Python` script inside `IPython` |\n",
    "| `%prun statement` | Execute `statement` with `cProfile` and report the profiler output |\n",
    "| `%time statement` | Report the execution time of single statement |\n",
    "| `%timeit statement` | Run a (short) statement multiple times to compute an emsemble average execution time.|\n",
    "| `%who, %who_ls, %whos` | Display variables defined in interactive namespace, varying info depth|\n",
    "| `%xdel variable` | Delete a variable and clear references to the object in the `IPython` internals |"
   ]
  },
  {
   "cell_type": "markdown",
   "metadata": {},
   "source": [
    "### Try it!\n",
    "\n",
    "Which \"squaring\" function do you think is more efficient? "
   ]
  },
  {
   "cell_type": "code",
   "execution_count": null,
   "metadata": {
    "collapsed": false
   },
   "outputs": [],
   "source": [
    "def square_one(x):\n",
    "    return x ** 2\n",
    "\n",
    "def square_two(x):\n",
    "    return x * x\n",
    "\n",
    "%timeit square_one(500)\n",
    "%timeit square_two(500)"
   ]
  },
  {
   "cell_type": "markdown",
   "metadata": {},
   "source": [
    "It's good to remember that $x\\cdot x$ is always faster to compute than $x^2$.\n",
    "\n",
    "`%timeit` can be used for more complicated functions. For example, consider the Fibonacci numbers, which are computed according to the following rule:\n",
    "\n",
    "\\begin{align*}\n",
    "F_1 &= 1 \\\\\n",
    "F_2 &= 1 \\\\\n",
    "F_n &= F_{n-1} + F_{n-2}\n",
    "\\end{align*}\n",
    "\n",
    "So, $F_3$ is the sum of $F_1$ and $F_2$, i.e. $F_3=1+1=2$. Then $F_4 = F_2 + F_3 = 5$, and so on. We can write a `Python` function to calculate Fibonacci numbers with two different strategies: recursion or iteration. One might ask which implementation is more efficient, so we can use `%timeit` to get a good idea."
   ]
  },
  {
   "cell_type": "code",
   "execution_count": null,
   "metadata": {
    "collapsed": false
   },
   "outputs": [],
   "source": [
    "# Recursive implementation\n",
    "def fibonacci_one(n):\n",
    "    if n == 1 or n == 2:\n",
    "        return 1\n",
    "    else:\n",
    "        return fibonacci_one(n-1) + fibonacci_one(n-2)\n",
    "\n",
    "# Iterative implementation\n",
    "def fibonacci_two(n):\n",
    "    a = 1\n",
    "    b = 1\n",
    "    if n < 3:\n",
    "        return 1\n",
    "    for i in range (3, n+1):\n",
    "        c = a\n",
    "        a += b\n",
    "        b = c\n",
    "        \n",
    "    return a"
   ]
  },
  {
   "cell_type": "code",
   "execution_count": null,
   "metadata": {
    "collapsed": false
   },
   "outputs": [],
   "source": [
    "%timeit fibonacci_one(15)\n",
    "%timeit fibonacci_two(15)"
   ]
  },
  {
   "cell_type": "markdown",
   "metadata": {},
   "source": [
    "Remember that there are 1000 nanoseconds per microsecond. In other words, the iterative implementation is **150 times faster** than the recursive one. "
   ]
  },
  {
   "cell_type": "markdown",
   "metadata": {},
   "source": [
    "## Debugging\n",
    "\n",
    "Anyone who has dealt with computers for any length of time has had to deal with bugs in their code (I'm looking at you, 161ers). Sometimes you make a (or many) small mistake(s) that you don't catch before running your code. Your program won't work properly, and you need to figure out what's causing the problem. Luckily, with `IPython`, we get to use the interactive debugger, `%debug`, which lets you step through your code to help you spot errors.\n",
    "\n",
    "Consider the following problem. You need to write a function that takes a list of `double`s and computes the list of its multiplicative inverses. Then, you need to plot the data (don't worry about the `matplotlib` code; it's a demonstration). For example, if you are given $[1, 2, 3, 4, 5]$, you should obtain\n",
    "\\begin{align*}\n",
    "f([1,2,3,4,5]) = \\left [1, \\frac{1}{2}, \\frac{1}{3}, \\frac{1}{4}, \\frac{1}{5} \\right ]\n",
    "\\end{align*}\n",
    "represented as `doubles`. Suppose your first attempt at a solution is as follows."
   ]
  },
  {
   "cell_type": "code",
   "execution_count": null,
   "metadata": {
    "collapsed": false
   },
   "outputs": [],
   "source": [
    "import matplotlib.pyplot as plt\n",
    "%matplotlib inline"
   ]
  },
  {
   "cell_type": "code",
   "execution_count": null,
   "metadata": {
    "collapsed": false
   },
   "outputs": [],
   "source": [
    "# A simple, naive solution\n",
    "def invert(list_of_doubles):\n",
    "    inverted_list = []\n",
    "    for i in list_of_doubles:\n",
    "        inverted_list.append(1./i)\n",
    "    return inverted_list\n",
    "\n",
    "# A silly, useless function\n",
    "def plot_demo(inverted_list):\n",
    "    plt.plot(inverted_list)\n",
    "    plt.title(\"Debug Demo\")"
   ]
  },
  {
   "cell_type": "code",
   "execution_count": null,
   "metadata": {
    "collapsed": false
   },
   "outputs": [],
   "source": [
    "plot_demo(invert([1., 2., 3., 4., 5., 6., 7.]))"
   ]
  },
  {
   "cell_type": "markdown",
   "metadata": {},
   "source": [
    "Everything looks good, so what's the problem?"
   ]
  },
  {
   "cell_type": "code",
   "execution_count": null,
   "metadata": {
    "collapsed": false
   },
   "outputs": [],
   "source": [
    "plot_demo(invert([1., 2., 3., 4., 5., 6., 7., 0.]))"
   ]
  },
  {
   "cell_type": "markdown",
   "metadata": {},
   "source": [
    "Okay, so we're getting a divide by zero... let's run `%debug` if it can enlighten us on where the functions broke."
   ]
  },
  {
   "cell_type": "code",
   "execution_count": null,
   "metadata": {
    "collapsed": false
   },
   "outputs": [],
   "source": [
    "%debug"
   ]
  },
  {
   "cell_type": "markdown",
   "metadata": {},
   "source": [
    "### Debugger commands\n",
    "This example was extremely simplified, but `%debug` is a very useful command to have in your toolbelt. Here are the key commands inside the debugger to help you navigate.\n",
    "\n",
    "| Command | Action | Command | Action |\n",
    "|---------|--------|---------|--------|\n",
    "|`h(elp)` | Display command list |`s(tep)`| Step _into_ function call|\n",
    "|`help` _command_| Show documentation for _command_ | `n(ext)` | Execute current line and advance|\n",
    "|`c(ontinue)` | Resume program execution | `u(p) / d(own)` | Move up/down in function call stack |\n",
    "|`q(uit)` | Exit debugger without executing any more code | `a(rgs)` | Show arguments for current function |\n",
    "|`b(reak)` _number_| Set a breakpoint at _number_ in current file | `debug` _statement_ | Invoke _statement_ in new (recursive) debugger |\n",
    "|`b` _path/to/file.py:number_| Set breakpoint at line _number_ in specified file | `l(ist)` _statement_ | Show current position with context|\n",
    "| `w(here)` | Print full stack trace with context at current position |\n"
   ]
  },
  {
   "cell_type": "markdown",
   "metadata": {},
   "source": [
    "# Tips for Productive Code Development Using `IPython`\n",
    "Wes McKinney has a number of helpful tips regarding using `IPython` for code development. Importantly, he says\n",
    "\n",
    "> Writing code in a way that makes it easy to develop, debug, and ultimately _use_ interactively may be a paradigm shift for many users. There are procedural details like code reloading that may require some adjustment as well as coding style concerns.  \n",
    "\n",
    "> As such, most of this section is more of an art than a science and will require some experimentation on your part to determine a way to write your `Python` code that is effective and productive for you. Ultimately you want to structure your code in a way that makes it easy to use iteratively and to be able to explore the results of running a program or function as effortlessly as possible.\n",
    "\n",
    "On these lines, here are some of McKinney's tips for good code design in `Python`.\n",
    "\n",
    "### Flat is better than nested\n",
    "* Deeply nested code makes me think about the many layers of an onion.\n",
    "* When testing or debugging a function, how many layers of the onion must you peel back in order to reach the code of interest?\n",
    "* Making functions and classes as decoupled and modular aas possible makes them easier to test (if you are writing unit tests), debug, and use interactively.\n",
    "\n",
    "### Overcome a fear of longer files\n",
    "* If you come from a `Java` background, you may have been told to keep files short.\n",
    "* However, while developing code using `IPython`, working with 10 small, but interconnected files (under, say, 100 lines each) is likely to cause you more headache in general than a single large file or two or three longer files.\n",
    "* Fewer files means fewer modules to reload and less jumping between files while editing, too."
   ]
  },
  {
   "cell_type": "markdown",
   "metadata": {},
   "source": [
    "# Lab: Testing Efficiency\n",
    "\n",
    "One fundamental problem in computing is array (or list) sorting. There are many different ways to sort, each providing distinct advantages. As a general rule, the best objective way to compare sorting algorithms is their efficiency, but this can change depending on the size of the array (or list) under consideration.\n",
    "\n",
    "This lab invites you to try to implement two common sorting algorithms:\n",
    "\n",
    "* Bubble sort,\n",
    "* Selection sort\n",
    "\n",
    "Neither algorithm is inherently efficient, but are comparatively simple to put to code. The bubble sort works as follows:\n",
    "\n",
    "1. Start with a list of numbers\n",
    "2. Check if it is sorted\n",
    "    1. If it is sorted, then return the list\n",
    "    2. If not, continue\n",
    "3. Compare the first and second numbers\n",
    "    1. If the first number is less than the second number, continue\n",
    "    2. If the second number is less than the first number, swap, and then continue\n",
    "4. Shift over one element of the list, and repeat.\n",
    "5. After reaching the end of the list, go back to step (2).\n",
    "\n",
    "The selection sort works as follows:\n",
    "\n",
    "1. Start with a list of numbers\n",
    "2. Set the \"swap\" index to 0\n",
    "3. Check if the list after the swap index is sorted\n",
    "    1. If it is sorted, then return the list\n",
    "    2. If not, continue\n",
    "4. Cycle through the remaining list and identify the location of the smallest number\n",
    "5. Exchange the minimum with the current swap index\n",
    "6. Increment the swap index\n",
    "7. Go back to step(2).\n",
    "\n",
    "Your task: implement these sorting algorithms in `Python`, and use `IPython` tools to determine which algorithm is more efficient."
   ]
  },
  {
   "cell_type": "code",
   "execution_count": null,
   "metadata": {
    "collapsed": true
   },
   "outputs": [],
   "source": [
    "from numpy import random\n",
    "\n",
    "def is_sorted(lst):\n",
    "    for i in range(1,len(lst)):\n",
    "        if lst[i] < lst[i-1]:\n",
    "            return False\n",
    "    return True\n",
    "\n",
    "def bubblesort(lst):\n",
    "    while not is_sorted(lst):\n",
    "        for i in range(0, len(lst) - 1):\n",
    "            if lst[i+1] < lst[i]:\n",
    "                temp = lst[i]\n",
    "                lst[i] = lst[i+1]\n",
    "                lst[i+1] = temp\n",
    "    return lst\n",
    "\n",
    "def selection_sort(lst):\n",
    "    for i, e in enumerate(lst):\n",
    "        mn = min(range(i,len(lst)), key=lst.__getitem__)\n",
    "        lst[i], lst[mn] = lst[mn], e\n",
    "    return lst"
   ]
  },
  {
   "cell_type": "code",
   "execution_count": null,
   "metadata": {
    "collapsed": false
   },
   "outputs": [],
   "source": [
    "%timeit bubblesort(random.randn(1000))\n",
    "%timeit selection_sort(random.randn(1000))"
   ]
  }
 ],
 "metadata": {
  "kernelspec": {
   "display_name": "Python 2",
   "language": "python",
   "name": "python2"
  },
  "language_info": {
   "codemirror_mode": {
    "name": "ipython",
    "version": 2
   },
   "file_extension": ".py",
   "mimetype": "text/x-python",
   "name": "python",
   "nbconvert_exporter": "python",
   "pygments_lexer": "ipython2",
   "version": "2.7.9"
  }
 },
 "nbformat": 4,
 "nbformat_minor": 0
}
